{
 "cells": [
  {
   "cell_type": "markdown",
   "metadata": {
    "slideshow": {
     "slide_type": "slide"
    }
   },
   "source": [
    "# Part I - Ford Go Bike Dataset Exploration\n",
    "## by (Umar Ibrahim)\n",
    "\n",
    "## Introduction\n",
    "> Ford go bike dataset is data set that includes information about individual rides made in a bike-sharing system covering the greater San Francisco Bay area. \n",
    "\n",
    "\n",
    "\n"
   ]
  },
  {
   "cell_type": "code",
   "execution_count": 76,
   "metadata": {
    "slideshow": {
     "slide_type": "skip"
    }
   },
   "outputs": [
    {
     "name": "stdout",
     "output_type": "stream",
     "text": [
      "Requirement already satisfied: h3 in c:\\users\\user\\anaconda3\\lib\\site-packages (3.7.4)\n",
      "Note: you may need to restart the kernel to use updated packages.\n"
     ]
    }
   ],
   "source": [
    "pip install h3"
   ]
  },
  {
   "cell_type": "markdown",
   "metadata": {
    "slideshow": {
     "slide_type": "skip"
    }
   },
   "source": [
    "## Preliminary Wrangling"
   ]
  },
  {
   "cell_type": "markdown",
   "metadata": {
    "slideshow": {
     "slide_type": "skip"
    }
   },
   "source": [
    "#### Import all the necessary packages and set plots to be embedded inline"
   ]
  },
  {
   "cell_type": "code",
   "execution_count": 1,
   "metadata": {
    "slideshow": {
     "slide_type": "skip"
    }
   },
   "outputs": [],
   "source": [
    "# import all packages and set plots to be embedded inline\n",
    "from math import sin, cos, sqrt, atan2, radians\n",
    "import h3\n",
    "import numpy as np\n",
    "import pandas as pd\n",
    "import matplotlib.pyplot as plt\n",
    "import seaborn as sb\n",
    "import datetime\n",
    "%matplotlib inline"
   ]
  },
  {
   "cell_type": "markdown",
   "metadata": {
    "slideshow": {
     "slide_type": "skip"
    }
   },
   "source": [
    "### Load in your dataset and describe its properties through the questions below. Try and motivate your exploration goals through this section.\n"
   ]
  },
  {
   "cell_type": "code",
   "execution_count": 2,
   "metadata": {
    "slideshow": {
     "slide_type": "skip"
    }
   },
   "outputs": [],
   "source": [
    "#reading the csv file into a dataframe \n",
    "ford_go_bike=pd.read_csv('201902-fordgobike-tripdata.csv')"
   ]
  },
  {
   "cell_type": "code",
   "execution_count": 3,
   "metadata": {
    "slideshow": {
     "slide_type": "skip"
    }
   },
   "outputs": [],
   "source": [
    "#a copy of the csv file for testing and manipulation\n",
    "fordtest=pd.read_csv('201902-fordgobike-tripdata.csv')"
   ]
  },
  {
   "cell_type": "markdown",
   "metadata": {
    "slideshow": {
     "slide_type": "skip"
    }
   },
   "source": [
    "We loaded the dataset into two dataframes: ford_go_bike for exploring our dataset and fordtest so as to avoid making changes directly into ford_go_bike while wrangling and testing."
   ]
  },
  {
   "cell_type": "markdown",
   "metadata": {
    "slideshow": {
     "slide_type": "skip"
    }
   },
   "source": [
    "This code below shows a sample of the first 6 rows of the ford_go_bike dataset. This is also a programmatic assessment. The visual assessement was done using Microsoft excel \n"
   ]
  },
  {
   "cell_type": "code",
   "execution_count": 99,
   "metadata": {
    "scrolled": false,
    "slideshow": {
     "slide_type": "skip"
    }
   },
   "outputs": [
    {
     "data": {
      "text/html": [
       "<div>\n",
       "<style scoped>\n",
       "    .dataframe tbody tr th:only-of-type {\n",
       "        vertical-align: middle;\n",
       "    }\n",
       "\n",
       "    .dataframe tbody tr th {\n",
       "        vertical-align: top;\n",
       "    }\n",
       "\n",
       "    .dataframe thead th {\n",
       "        text-align: right;\n",
       "    }\n",
       "</style>\n",
       "<table border=\"1\" class=\"dataframe\">\n",
       "  <thead>\n",
       "    <tr style=\"text-align: right;\">\n",
       "      <th></th>\n",
       "      <th>duration_sec</th>\n",
       "      <th>start_time</th>\n",
       "      <th>end_time</th>\n",
       "      <th>start_station_id</th>\n",
       "      <th>start_station_name</th>\n",
       "      <th>start_station_latitude</th>\n",
       "      <th>start_station_longitude</th>\n",
       "      <th>end_station_id</th>\n",
       "      <th>end_station_name</th>\n",
       "      <th>end_station_latitude</th>\n",
       "      <th>end_station_longitude</th>\n",
       "      <th>bike_id</th>\n",
       "      <th>user_type</th>\n",
       "      <th>member_birth_year</th>\n",
       "      <th>member_gender</th>\n",
       "      <th>bike_share_for_all_trip</th>\n",
       "      <th>dist</th>\n",
       "      <th>speed</th>\n",
       "    </tr>\n",
       "  </thead>\n",
       "  <tbody>\n",
       "    <tr>\n",
       "      <th>0</th>\n",
       "      <td>52185</td>\n",
       "      <td>2019-02-28 17:32:10.145</td>\n",
       "      <td>2019-03-01 08:01:55.975</td>\n",
       "      <td>21.0</td>\n",
       "      <td>Montgomery St BART Station (Market St at 2nd St)</td>\n",
       "      <td>37.789625</td>\n",
       "      <td>-122.400811</td>\n",
       "      <td>13.0</td>\n",
       "      <td>Commercial St at Montgomery St</td>\n",
       "      <td>37.794231</td>\n",
       "      <td>-122.402923</td>\n",
       "      <td>4902</td>\n",
       "      <td>Customer</td>\n",
       "      <td>1984</td>\n",
       "      <td>Male</td>\n",
       "      <td>No</td>\n",
       "      <td>0.543983</td>\n",
       "      <td>0.010424</td>\n",
       "    </tr>\n",
       "    <tr>\n",
       "      <th>1</th>\n",
       "      <td>42521</td>\n",
       "      <td>2019-02-28 18:53:21.789</td>\n",
       "      <td>2019-03-01 06:42:03.056</td>\n",
       "      <td>23.0</td>\n",
       "      <td>The Embarcadero at Steuart St</td>\n",
       "      <td>37.791464</td>\n",
       "      <td>-122.391034</td>\n",
       "      <td>81.0</td>\n",
       "      <td>Berry St at 4th St</td>\n",
       "      <td>37.775880</td>\n",
       "      <td>-122.393170</td>\n",
       "      <td>2535</td>\n",
       "      <td>Customer</td>\n",
       "      <td>0</td>\n",
       "      <td>Rather not say</td>\n",
       "      <td>No</td>\n",
       "      <td>1.739909</td>\n",
       "      <td>0.040919</td>\n",
       "    </tr>\n",
       "    <tr>\n",
       "      <th>2</th>\n",
       "      <td>61854</td>\n",
       "      <td>2019-02-28 12:13:13.218</td>\n",
       "      <td>2019-03-01 05:24:08.146</td>\n",
       "      <td>86.0</td>\n",
       "      <td>Market St at Dolores St</td>\n",
       "      <td>37.769305</td>\n",
       "      <td>-122.426826</td>\n",
       "      <td>3.0</td>\n",
       "      <td>Powell St BART Station (Market St at 4th St)</td>\n",
       "      <td>37.786375</td>\n",
       "      <td>-122.404904</td>\n",
       "      <td>5905</td>\n",
       "      <td>Customer</td>\n",
       "      <td>1972</td>\n",
       "      <td>Male</td>\n",
       "      <td>No</td>\n",
       "      <td>2.705390</td>\n",
       "      <td>0.043738</td>\n",
       "    </tr>\n",
       "    <tr>\n",
       "      <th>3</th>\n",
       "      <td>36490</td>\n",
       "      <td>2019-02-28 17:54:26.010</td>\n",
       "      <td>2019-03-01 04:02:36.842</td>\n",
       "      <td>375.0</td>\n",
       "      <td>Grove St at Masonic Ave</td>\n",
       "      <td>37.774836</td>\n",
       "      <td>-122.446546</td>\n",
       "      <td>70.0</td>\n",
       "      <td>Central Ave at Fell St</td>\n",
       "      <td>37.773311</td>\n",
       "      <td>-122.444293</td>\n",
       "      <td>6638</td>\n",
       "      <td>Subscriber</td>\n",
       "      <td>1989</td>\n",
       "      <td>Other</td>\n",
       "      <td>No</td>\n",
       "      <td>0.260896</td>\n",
       "      <td>0.007150</td>\n",
       "    </tr>\n",
       "    <tr>\n",
       "      <th>4</th>\n",
       "      <td>1585</td>\n",
       "      <td>2019-02-28 23:54:18.549</td>\n",
       "      <td>2019-03-01 00:20:44.074</td>\n",
       "      <td>7.0</td>\n",
       "      <td>Frank H Ogawa Plaza</td>\n",
       "      <td>37.804562</td>\n",
       "      <td>-122.271738</td>\n",
       "      <td>222.0</td>\n",
       "      <td>10th Ave at E 15th St</td>\n",
       "      <td>37.792714</td>\n",
       "      <td>-122.248780</td>\n",
       "      <td>4898</td>\n",
       "      <td>Subscriber</td>\n",
       "      <td>1974</td>\n",
       "      <td>Male</td>\n",
       "      <td>Yes</td>\n",
       "      <td>2.412017</td>\n",
       "      <td>1.521778</td>\n",
       "    </tr>\n",
       "    <tr>\n",
       "      <th>5</th>\n",
       "      <td>1793</td>\n",
       "      <td>2019-02-28 23:49:58.632</td>\n",
       "      <td>2019-03-01 00:19:51.760</td>\n",
       "      <td>93.0</td>\n",
       "      <td>4th St at Mission Bay Blvd S</td>\n",
       "      <td>37.770407</td>\n",
       "      <td>-122.391198</td>\n",
       "      <td>323.0</td>\n",
       "      <td>Broadway at Kearny</td>\n",
       "      <td>37.798014</td>\n",
       "      <td>-122.405950</td>\n",
       "      <td>5200</td>\n",
       "      <td>Subscriber</td>\n",
       "      <td>1959</td>\n",
       "      <td>Male</td>\n",
       "      <td>No</td>\n",
       "      <td>3.328256</td>\n",
       "      <td>1.856250</td>\n",
       "    </tr>\n",
       "  </tbody>\n",
       "</table>\n",
       "</div>"
      ],
      "text/plain": [
       "   duration_sec              start_time                end_time  \\\n",
       "0         52185 2019-02-28 17:32:10.145 2019-03-01 08:01:55.975   \n",
       "1         42521 2019-02-28 18:53:21.789 2019-03-01 06:42:03.056   \n",
       "2         61854 2019-02-28 12:13:13.218 2019-03-01 05:24:08.146   \n",
       "3         36490 2019-02-28 17:54:26.010 2019-03-01 04:02:36.842   \n",
       "4          1585 2019-02-28 23:54:18.549 2019-03-01 00:20:44.074   \n",
       "5          1793 2019-02-28 23:49:58.632 2019-03-01 00:19:51.760   \n",
       "\n",
       "   start_station_id                                start_station_name  \\\n",
       "0              21.0  Montgomery St BART Station (Market St at 2nd St)   \n",
       "1              23.0                     The Embarcadero at Steuart St   \n",
       "2              86.0                           Market St at Dolores St   \n",
       "3             375.0                           Grove St at Masonic Ave   \n",
       "4               7.0                               Frank H Ogawa Plaza   \n",
       "5              93.0                      4th St at Mission Bay Blvd S   \n",
       "\n",
       "   start_station_latitude  start_station_longitude  end_station_id  \\\n",
       "0               37.789625              -122.400811            13.0   \n",
       "1               37.791464              -122.391034            81.0   \n",
       "2               37.769305              -122.426826             3.0   \n",
       "3               37.774836              -122.446546            70.0   \n",
       "4               37.804562              -122.271738           222.0   \n",
       "5               37.770407              -122.391198           323.0   \n",
       "\n",
       "                               end_station_name  end_station_latitude  \\\n",
       "0                Commercial St at Montgomery St             37.794231   \n",
       "1                            Berry St at 4th St             37.775880   \n",
       "2  Powell St BART Station (Market St at 4th St)             37.786375   \n",
       "3                        Central Ave at Fell St             37.773311   \n",
       "4                         10th Ave at E 15th St             37.792714   \n",
       "5                            Broadway at Kearny             37.798014   \n",
       "\n",
       "   end_station_longitude  bike_id   user_type  member_birth_year  \\\n",
       "0            -122.402923     4902    Customer               1984   \n",
       "1            -122.393170     2535    Customer                  0   \n",
       "2            -122.404904     5905    Customer               1972   \n",
       "3            -122.444293     6638  Subscriber               1989   \n",
       "4            -122.248780     4898  Subscriber               1974   \n",
       "5            -122.405950     5200  Subscriber               1959   \n",
       "\n",
       "    member_gender bike_share_for_all_trip      dist     speed  \n",
       "0            Male                      No  0.543983  0.010424  \n",
       "1  Rather not say                      No  1.739909  0.040919  \n",
       "2            Male                      No  2.705390  0.043738  \n",
       "3           Other                      No  0.260896  0.007150  \n",
       "4            Male                     Yes  2.412017  1.521778  \n",
       "5            Male                      No  3.328256  1.856250  "
      ]
     },
     "execution_count": 99,
     "metadata": {},
     "output_type": "execute_result"
    }
   ],
   "source": [
    "#show first 6 rows in the dataset\n",
    "ford_go_bike.head(6)"
   ]
  },
  {
   "cell_type": "markdown",
   "metadata": {
    "slideshow": {
     "slide_type": "skip"
    }
   },
   "source": [
    "We use ford_go_bike.info() below to see the no of rows, columns and null values in the dataframe "
   ]
  },
  {
   "cell_type": "code",
   "execution_count": 9,
   "metadata": {
    "slideshow": {
     "slide_type": "skip"
    }
   },
   "outputs": [
    {
     "name": "stdout",
     "output_type": "stream",
     "text": [
      "<class 'pandas.core.frame.DataFrame'>\n",
      "RangeIndex: 183412 entries, 0 to 183411\n",
      "Data columns (total 16 columns):\n",
      " #   Column                   Non-Null Count   Dtype  \n",
      "---  ------                   --------------   -----  \n",
      " 0   duration_sec             183412 non-null  int64  \n",
      " 1   start_time               183412 non-null  object \n",
      " 2   end_time                 183412 non-null  object \n",
      " 3   start_station_id         183215 non-null  float64\n",
      " 4   start_station_name       183215 non-null  object \n",
      " 5   start_station_latitude   183412 non-null  float64\n",
      " 6   start_station_longitude  183412 non-null  float64\n",
      " 7   end_station_id           183215 non-null  float64\n",
      " 8   end_station_name         183215 non-null  object \n",
      " 9   end_station_latitude     183412 non-null  float64\n",
      " 10  end_station_longitude    183412 non-null  float64\n",
      " 11  bike_id                  183412 non-null  int64  \n",
      " 12  user_type                183412 non-null  object \n",
      " 13  member_birth_year        175147 non-null  float64\n",
      " 14  member_gender            175147 non-null  object \n",
      " 15  bike_share_for_all_trip  183412 non-null  object \n",
      "dtypes: float64(7), int64(2), object(7)\n",
      "memory usage: 22.4+ MB\n"
     ]
    }
   ],
   "source": [
    "#looking at the rows, columns, data type and null values\n",
    "ford_go_bike.info()"
   ]
  },
  {
   "cell_type": "code",
   "execution_count": 12,
   "metadata": {
    "slideshow": {
     "slide_type": "skip"
    }
   },
   "outputs": [
    {
     "data": {
      "text/plain": [
       "(183412, 16)"
      ]
     },
     "execution_count": 12,
     "metadata": {},
     "output_type": "execute_result"
    }
   ],
   "source": [
    "#shape method helps with the structure of our dataset in terms of no. of rows and columns\n",
    "ford_go_bike.shape"
   ]
  },
  {
   "cell_type": "code",
   "execution_count": 13,
   "metadata": {
    "slideshow": {
     "slide_type": "skip"
    }
   },
   "outputs": [
    {
     "data": {
      "text/html": [
       "<div>\n",
       "<style scoped>\n",
       "    .dataframe tbody tr th:only-of-type {\n",
       "        vertical-align: middle;\n",
       "    }\n",
       "\n",
       "    .dataframe tbody tr th {\n",
       "        vertical-align: top;\n",
       "    }\n",
       "\n",
       "    .dataframe thead th {\n",
       "        text-align: right;\n",
       "    }\n",
       "</style>\n",
       "<table border=\"1\" class=\"dataframe\">\n",
       "  <thead>\n",
       "    <tr style=\"text-align: right;\">\n",
       "      <th></th>\n",
       "      <th>duration_sec</th>\n",
       "      <th>start_station_id</th>\n",
       "      <th>start_station_latitude</th>\n",
       "      <th>start_station_longitude</th>\n",
       "      <th>end_station_id</th>\n",
       "      <th>end_station_latitude</th>\n",
       "      <th>end_station_longitude</th>\n",
       "      <th>bike_id</th>\n",
       "      <th>member_birth_year</th>\n",
       "    </tr>\n",
       "  </thead>\n",
       "  <tbody>\n",
       "    <tr>\n",
       "      <th>count</th>\n",
       "      <td>183412.000000</td>\n",
       "      <td>183215.000000</td>\n",
       "      <td>183412.000000</td>\n",
       "      <td>183412.000000</td>\n",
       "      <td>183215.000000</td>\n",
       "      <td>183412.000000</td>\n",
       "      <td>183412.000000</td>\n",
       "      <td>183412.000000</td>\n",
       "      <td>175147.000000</td>\n",
       "    </tr>\n",
       "    <tr>\n",
       "      <th>mean</th>\n",
       "      <td>726.078435</td>\n",
       "      <td>138.590427</td>\n",
       "      <td>37.771223</td>\n",
       "      <td>-122.352664</td>\n",
       "      <td>136.249123</td>\n",
       "      <td>37.771427</td>\n",
       "      <td>-122.352250</td>\n",
       "      <td>4472.906375</td>\n",
       "      <td>1984.806437</td>\n",
       "    </tr>\n",
       "    <tr>\n",
       "      <th>std</th>\n",
       "      <td>1794.389780</td>\n",
       "      <td>111.778864</td>\n",
       "      <td>0.099581</td>\n",
       "      <td>0.117097</td>\n",
       "      <td>111.515131</td>\n",
       "      <td>0.099490</td>\n",
       "      <td>0.116673</td>\n",
       "      <td>1664.383394</td>\n",
       "      <td>10.116689</td>\n",
       "    </tr>\n",
       "    <tr>\n",
       "      <th>min</th>\n",
       "      <td>61.000000</td>\n",
       "      <td>3.000000</td>\n",
       "      <td>37.317298</td>\n",
       "      <td>-122.453704</td>\n",
       "      <td>3.000000</td>\n",
       "      <td>37.317298</td>\n",
       "      <td>-122.453704</td>\n",
       "      <td>11.000000</td>\n",
       "      <td>1878.000000</td>\n",
       "    </tr>\n",
       "    <tr>\n",
       "      <th>25%</th>\n",
       "      <td>325.000000</td>\n",
       "      <td>47.000000</td>\n",
       "      <td>37.770083</td>\n",
       "      <td>-122.412408</td>\n",
       "      <td>44.000000</td>\n",
       "      <td>37.770407</td>\n",
       "      <td>-122.411726</td>\n",
       "      <td>3777.000000</td>\n",
       "      <td>1980.000000</td>\n",
       "    </tr>\n",
       "    <tr>\n",
       "      <th>50%</th>\n",
       "      <td>514.000000</td>\n",
       "      <td>104.000000</td>\n",
       "      <td>37.780760</td>\n",
       "      <td>-122.398285</td>\n",
       "      <td>100.000000</td>\n",
       "      <td>37.781010</td>\n",
       "      <td>-122.398279</td>\n",
       "      <td>4958.000000</td>\n",
       "      <td>1987.000000</td>\n",
       "    </tr>\n",
       "    <tr>\n",
       "      <th>75%</th>\n",
       "      <td>796.000000</td>\n",
       "      <td>239.000000</td>\n",
       "      <td>37.797280</td>\n",
       "      <td>-122.286533</td>\n",
       "      <td>235.000000</td>\n",
       "      <td>37.797320</td>\n",
       "      <td>-122.288045</td>\n",
       "      <td>5502.000000</td>\n",
       "      <td>1992.000000</td>\n",
       "    </tr>\n",
       "    <tr>\n",
       "      <th>max</th>\n",
       "      <td>85444.000000</td>\n",
       "      <td>398.000000</td>\n",
       "      <td>37.880222</td>\n",
       "      <td>-121.874119</td>\n",
       "      <td>398.000000</td>\n",
       "      <td>37.880222</td>\n",
       "      <td>-121.874119</td>\n",
       "      <td>6645.000000</td>\n",
       "      <td>2001.000000</td>\n",
       "    </tr>\n",
       "  </tbody>\n",
       "</table>\n",
       "</div>"
      ],
      "text/plain": [
       "        duration_sec  start_station_id  start_station_latitude  \\\n",
       "count  183412.000000     183215.000000           183412.000000   \n",
       "mean      726.078435        138.590427               37.771223   \n",
       "std      1794.389780        111.778864                0.099581   \n",
       "min        61.000000          3.000000               37.317298   \n",
       "25%       325.000000         47.000000               37.770083   \n",
       "50%       514.000000        104.000000               37.780760   \n",
       "75%       796.000000        239.000000               37.797280   \n",
       "max     85444.000000        398.000000               37.880222   \n",
       "\n",
       "       start_station_longitude  end_station_id  end_station_latitude  \\\n",
       "count            183412.000000   183215.000000         183412.000000   \n",
       "mean               -122.352664      136.249123             37.771427   \n",
       "std                   0.117097      111.515131              0.099490   \n",
       "min                -122.453704        3.000000             37.317298   \n",
       "25%                -122.412408       44.000000             37.770407   \n",
       "50%                -122.398285      100.000000             37.781010   \n",
       "75%                -122.286533      235.000000             37.797320   \n",
       "max                -121.874119      398.000000             37.880222   \n",
       "\n",
       "       end_station_longitude        bike_id  member_birth_year  \n",
       "count          183412.000000  183412.000000      175147.000000  \n",
       "mean             -122.352250    4472.906375        1984.806437  \n",
       "std                 0.116673    1664.383394          10.116689  \n",
       "min              -122.453704      11.000000        1878.000000  \n",
       "25%              -122.411726    3777.000000        1980.000000  \n",
       "50%              -122.398279    4958.000000        1987.000000  \n",
       "75%              -122.288045    5502.000000        1992.000000  \n",
       "max              -121.874119    6645.000000        2001.000000  "
      ]
     },
     "execution_count": 13,
     "metadata": {},
     "output_type": "execute_result"
    }
   ],
   "source": [
    "#this gives us a descriptive statistics of the dataset\n",
    "ford_go_bike.describe()"
   ]
  },
  {
   "cell_type": "markdown",
   "metadata": {
    "slideshow": {
     "slide_type": "skip"
    }
   },
   "source": [
    "### Observation for our data types \n",
    "- duration_sec should be time data type\n",
    "- start_time should be date type\n",
    "- end_time should be data type\n",
    "- start time contains 11 duplicates\n"
   ]
  },
  {
   "cell_type": "markdown",
   "metadata": {
    "slideshow": {
     "slide_type": "subslide"
    }
   },
   "source": [
    "### What is the structure of your dataset?\n",
    "\n",
    "> The Ford go bike data is structured with 183412 rows and 16 columns/features namely:\n",
    "- duration_sec               \n",
    "- start_time                 \n",
    "- end_time                   \n",
    "- start_station_id           \n",
    "- start_station_name         \n",
    "- start_station_latitude     \n",
    "- start_station_longitude    \n",
    "- end_station_id             \n",
    "- end_station_name           \n",
    "- end_station_latitude       \n",
    "- end_station_longitude      \n",
    "- bike_id                    \n",
    "- user_type                  \n",
    "- member_birth_year          \n",
    "- member_gender              \n",
    "- bike_share_for_all_trip    \n",
    "\n",
    "### What is/are the main feature(s) of interest in your dataset?\n",
    "\n",
    "\n",
    "- When are most trips taken in terms day of the week?\n",
    "\n",
    "\n",
    "- How long does the higest trip take?\n",
    "\n",
    "\n",
    "- Does the above depend on if a user is a subscriber or customer?\n",
    "\n",
    "\n",
    "- which stations have more traffic in terms of rides?\n",
    "\n",
    "### What features in the dataset do you think will help support your investigation into your feature(s) of interest?\n",
    "\n",
    "\n",
    "- The user_type will assist in knowing if customers or subscriber user type will contribute to most trips\n",
    "- I also think start time and end time will show insight into the day of the week in whcih most trips are recorded\n",
    "- The latitude and longitude will be used to get a new variable distance(km)\n",
    "- The duration_sec will be used to obtain day of the week so we can determine which week day had most rides.\n",
    "- the memeber birth year will likely show age bracket of those who frequent the bike system"
   ]
  },
  {
   "cell_type": "markdown",
   "metadata": {
    "slideshow": {
     "slide_type": "skip"
    }
   },
   "source": [
    "## Data wrangling of ford_go_bike dataset\n",
    "> We need to perform some data wrangling to tidy our dataset to we can work with a clean data\n",
    "\n",
    "### Observation for our data types \n",
    "- duration_sec should be time data type\n",
    "- start_time should be date type\n",
    "- end_time should be data type\n",
    "- member_birth_year should be int\n",
    "- latitude and longitude for start and end date should be converted to distance in km\n",
    "- start time and end time should produce a new variable day (mon,tue,wed...sun).\n",
    "\n"
   ]
  },
  {
   "cell_type": "code",
   "execution_count": 13,
   "metadata": {
    "slideshow": {
     "slide_type": "skip"
    }
   },
   "outputs": [],
   "source": [
    "#fill the member birth year missing values with 0\n",
    "ford_go_bike['member_birth_year'].fillna(value=0,inplace=True)\n",
    "#fill missing gender with rather not say\n",
    "ford_go_bike['member_gender'].fillna(value=\"Rather not say\",inplace=True)"
   ]
  },
  {
   "cell_type": "markdown",
   "metadata": {
    "slideshow": {
     "slide_type": "skip"
    }
   },
   "source": [
    "- We filled the member_birth_year with 0, as we cannot plot Nan values. we will use xlim[above 0] when plotting. \n",
    "- The member_gender has alot of missing gender, so we filled it up with rather not say."
   ]
  },
  {
   "cell_type": "code",
   "execution_count": 102,
   "metadata": {
    "slideshow": {
     "slide_type": "skip"
    }
   },
   "outputs": [
    {
     "name": "stdout",
     "output_type": "stream",
     "text": [
      "<class 'pandas.core.frame.DataFrame'>\n",
      "Int64Index: 183215 entries, 0 to 183411\n",
      "Data columns (total 18 columns):\n",
      " #   Column                   Non-Null Count   Dtype         \n",
      "---  ------                   --------------   -----         \n",
      " 0   duration_sec             183215 non-null  int64         \n",
      " 1   start_time               183215 non-null  datetime64[ns]\n",
      " 2   end_time                 183215 non-null  datetime64[ns]\n",
      " 3   start_station_id         183215 non-null  float64       \n",
      " 4   start_station_name       183215 non-null  object        \n",
      " 5   start_station_latitude   183215 non-null  float64       \n",
      " 6   start_station_longitude  183215 non-null  float64       \n",
      " 7   end_station_id           183215 non-null  float64       \n",
      " 8   end_station_name         183215 non-null  object        \n",
      " 9   end_station_latitude     183215 non-null  float64       \n",
      " 10  end_station_longitude    183215 non-null  float64       \n",
      " 11  bike_id                  183215 non-null  int64         \n",
      " 12  user_type                183215 non-null  object        \n",
      " 13  member_birth_year        183215 non-null  int32         \n",
      " 14  member_gender            183215 non-null  object        \n",
      " 15  bike_share_for_all_trip  183215 non-null  object        \n",
      " 16  dist                     183215 non-null  float64       \n",
      " 17  speed                    183215 non-null  float64       \n",
      "dtypes: datetime64[ns](2), float64(8), int32(1), int64(2), object(5)\n",
      "memory usage: 25.9+ MB\n"
     ]
    }
   ],
   "source": [
    "#convert to datetime\n",
    "ford_go_bike['start_time'] = pd.to_datetime(ford_go_bike['start_time'])\n",
    "ford_go_bike['end_time'] = pd.to_datetime(ford_go_bike['end_time'])\n",
    "ford_go_bike['member_birth_year']=ford_go_bike['member_birth_year'].astype(int)\n",
    "\n",
    "ford_go_bike.info()"
   ]
  },
  {
   "cell_type": "markdown",
   "metadata": {
    "slideshow": {
     "slide_type": "skip"
    }
   },
   "source": [
    "- We converted start time and end time from object type to date type\n",
    "- we also converted member_birt_year from float to int type"
   ]
  },
  {
   "cell_type": "code",
   "execution_count": 100,
   "metadata": {
    "slideshow": {
     "slide_type": "skip"
    }
   },
   "outputs": [],
   "source": [
    "#A function to remove rows with null values on start id \n",
    "def dropRowOrCol(dframe, row_col, axis=1):\n",
    "    dframe.drop(row_col, axis=axis, inplace=True)\n",
    "    "
   ]
  },
  {
   "cell_type": "code",
   "execution_count": 103,
   "metadata": {
    "slideshow": {
     "slide_type": "skip"
    }
   },
   "outputs": [
    {
     "data": {
      "text/plain": [
       "Int64Index([], dtype='int64')"
      ]
     },
     "execution_count": 103,
     "metadata": {},
     "output_type": "execute_result"
    }
   ],
   "source": [
    "#drop the rows on start_station_id, start_station_name, end_station_id,end_station_name as it has null values on those columsn\n",
    "#dropping start_station_id will drop all those rows. \n",
    "rwindex=ford_go_bike[pd.isnull(ford_go_bike['start_station_id'])].index\n",
    "rwindex"
   ]
  },
  {
   "cell_type": "code",
   "execution_count": 104,
   "metadata": {
    "slideshow": {
     "slide_type": "skip"
    }
   },
   "outputs": [],
   "source": [
    "dropRowOrCol(ford_go_bike,rwindex,axis=0)"
   ]
  },
  {
   "cell_type": "code",
   "execution_count": 20,
   "metadata": {
    "slideshow": {
     "slide_type": "skip"
    }
   },
   "outputs": [
    {
     "name": "stdout",
     "output_type": "stream",
     "text": [
      "<class 'pandas.core.frame.DataFrame'>\n",
      "Int64Index: 183215 entries, 0 to 183411\n",
      "Data columns (total 16 columns):\n",
      " #   Column                   Non-Null Count   Dtype         \n",
      "---  ------                   --------------   -----         \n",
      " 0   duration_sec             183215 non-null  int64         \n",
      " 1   start_time               183215 non-null  datetime64[ns]\n",
      " 2   end_time                 183215 non-null  datetime64[ns]\n",
      " 3   start_station_id         183215 non-null  float64       \n",
      " 4   start_station_name       183215 non-null  object        \n",
      " 5   start_station_latitude   183215 non-null  float64       \n",
      " 6   start_station_longitude  183215 non-null  float64       \n",
      " 7   end_station_id           183215 non-null  float64       \n",
      " 8   end_station_name         183215 non-null  object        \n",
      " 9   end_station_latitude     183215 non-null  float64       \n",
      " 10  end_station_longitude    183215 non-null  float64       \n",
      " 11  bike_id                  183215 non-null  int64         \n",
      " 12  user_type                183215 non-null  object        \n",
      " 13  member_birth_year        183215 non-null  int32         \n",
      " 14  member_gender            183215 non-null  object        \n",
      " 15  bike_share_for_all_trip  183215 non-null  object        \n",
      "dtypes: datetime64[ns](2), float64(6), int32(1), int64(2), object(5)\n",
      "memory usage: 23.1+ MB\n"
     ]
    }
   ],
   "source": [
    "ford_go_bike.info()"
   ]
  },
  {
   "cell_type": "markdown",
   "metadata": {
    "slideshow": {
     "slide_type": "skip"
    }
   },
   "source": [
    "- Convert start time and end time to day(mon, tue,wed...sun) on a new dataframe, new_df_times.\n",
    "- convert onvert start_station_latitude,start_station_longitude,end_station_latitude and end_station_longitude to distance (km)\n",
    "- a new column dist is obtained for the distance in km"
   ]
  },
  {
   "cell_type": "code",
   "execution_count": 24,
   "metadata": {
    "slideshow": {
     "slide_type": "skip"
    }
   },
   "outputs": [
    {
     "data": {
      "text/html": [
       "<div>\n",
       "<style scoped>\n",
       "    .dataframe tbody tr th:only-of-type {\n",
       "        vertical-align: middle;\n",
       "    }\n",
       "\n",
       "    .dataframe tbody tr th {\n",
       "        vertical-align: top;\n",
       "    }\n",
       "\n",
       "    .dataframe thead th {\n",
       "        text-align: right;\n",
       "    }\n",
       "</style>\n",
       "<table border=\"1\" class=\"dataframe\">\n",
       "  <thead>\n",
       "    <tr style=\"text-align: right;\">\n",
       "      <th></th>\n",
       "      <th>start_time</th>\n",
       "      <th>end_time</th>\n",
       "    </tr>\n",
       "  </thead>\n",
       "  <tbody>\n",
       "    <tr>\n",
       "      <th>0</th>\n",
       "      <td>2019-02-28 17:32:10.145</td>\n",
       "      <td>2019-03-01 08:01:55.975</td>\n",
       "    </tr>\n",
       "    <tr>\n",
       "      <th>1</th>\n",
       "      <td>2019-02-28 18:53:21.789</td>\n",
       "      <td>2019-03-01 06:42:03.056</td>\n",
       "    </tr>\n",
       "    <tr>\n",
       "      <th>2</th>\n",
       "      <td>2019-02-28 12:13:13.218</td>\n",
       "      <td>2019-03-01 05:24:08.146</td>\n",
       "    </tr>\n",
       "    <tr>\n",
       "      <th>3</th>\n",
       "      <td>2019-02-28 17:54:26.010</td>\n",
       "      <td>2019-03-01 04:02:36.842</td>\n",
       "    </tr>\n",
       "    <tr>\n",
       "      <th>4</th>\n",
       "      <td>2019-02-28 23:54:18.549</td>\n",
       "      <td>2019-03-01 00:20:44.074</td>\n",
       "    </tr>\n",
       "  </tbody>\n",
       "</table>\n",
       "</div>"
      ],
      "text/plain": [
       "               start_time                end_time\n",
       "0 2019-02-28 17:32:10.145 2019-03-01 08:01:55.975\n",
       "1 2019-02-28 18:53:21.789 2019-03-01 06:42:03.056\n",
       "2 2019-02-28 12:13:13.218 2019-03-01 05:24:08.146\n",
       "3 2019-02-28 17:54:26.010 2019-03-01 04:02:36.842\n",
       "4 2019-02-28 23:54:18.549 2019-03-01 00:20:44.074"
      ]
     },
     "execution_count": 24,
     "metadata": {},
     "output_type": "execute_result"
    }
   ],
   "source": [
    "#we create a new dataframe and converted start-time and end_time to day(mon,tue,wed...sun) so we can plot a graph\n",
    "new_df_times = ford_go_bike[['start_time','end_time']].copy()\n",
    "new_df_times.head()"
   ]
  },
  {
   "cell_type": "code",
   "execution_count": 25,
   "metadata": {
    "slideshow": {
     "slide_type": "skip"
    }
   },
   "outputs": [],
   "source": [
    "#here we convert start_time to start day and end_time to end_day\n",
    "new_df_times['start_day'] = new_df_times['start_time'].dt.day_name()\n",
    "new_df_times['end_day'] = new_df_times['end_time'].dt.day_name()"
   ]
  },
  {
   "cell_type": "code",
   "execution_count": 34,
   "metadata": {
    "slideshow": {
     "slide_type": "skip"
    }
   },
   "outputs": [],
   "source": [
    "#we convert start_station_latitude,start_station_longitude,end_station_latitude and end_station_longitude to distance (km)\n",
    "from pyproj import Geod\n",
    "\n",
    "wgs84_geod = Geod(ellps='WGS84') #Distance will be measured on this ellipsoid - more accurate than a spherical method\n",
    "\n",
    "#This function calculates the distance between pairs of latitude and longtitude\n",
    "def Distance(lat1,lon1,lat2,lon2):\n",
    "  az12,az21,dist = wgs84_geod.inv(lon1,lat1,lon2,lat2) #Yes, this order is correct\n",
    "  return dist\n",
    "\n",
    "\n",
    "#Add/update a column to the data frame with the distances (in metres)\n",
    "ford_go_bike['dist'] = Distance(ford_go_bike['start_station_latitude'].tolist(),ford_go_bike['start_station_longitude'].tolist(),ford_go_bike['end_station_latitude'].tolist(),ford_go_bike['end_station_longitude'].tolist())\n",
    "#convert dist from meters to km\n",
    "ford_go_bike['dist']=ford_go_bike['dist']/1000\n",
    "#ford_go_bike['dist']=ford_go_bike['dist'].round(3)"
   ]
  },
  {
   "cell_type": "markdown",
   "metadata": {
    "slideshow": {
     "slide_type": "slide"
    }
   },
   "source": [
    "## Univariate Exploration\n",
    "\n",
    "> In this section, we investigate distributions of individual variables in our ford_go_bike dataset.\n"
   ]
  },
  {
   "cell_type": "markdown",
   "metadata": {
    "slideshow": {
     "slide_type": "subslide"
    }
   },
   "source": [
    "### Question 1\n",
    "####  what day of the week has more rides?"
   ]
  },
  {
   "cell_type": "code",
   "execution_count": 27,
   "metadata": {
    "scrolled": false,
    "slideshow": {
     "slide_type": "subslide"
    }
   },
   "outputs": [
    {
     "data": {
      "image/png": "[encoded data removed]",
      "text/plain": [
       "<Figure size 576x576 with 2 Axes>"
      ]
     },
     "metadata": {
      "needs_background": "light"
     },
     "output_type": "display_data"
    }
   ],
   "source": [
    "fig, ax = plt.subplots(nrows=2, figsize = [8,8])\n",
    "\n",
    "default_color = sb.color_palette()[0]\n",
    "sb.countplot(data = new_df_times, x = 'start_day', color = default_color, ax = ax[0])\n",
    "sb.countplot(data = new_df_times, x = 'end_day', color = default_color, ax = ax[1])\n",
    "\n",
    "\n",
    "plt.show()"
   ]
  },
  {
   "cell_type": "markdown",
   "metadata": {
    "slideshow": {
     "slide_type": "subslide"
    }
   },
   "source": [
    "#### Observation\n",
    "- The Bar chart above shows Thursdays have more rides for both start and end colum data.\n",
    "- weekends have less rides for both start and end colums"
   ]
  },
  {
   "cell_type": "markdown",
   "metadata": {
    "slideshow": {
     "slide_type": "subslide"
    }
   },
   "source": [
    "### Question 2\n",
    "####  what is the distribution of user type (customer or subsriber) for the rides?"
   ]
  },
  {
   "cell_type": "code",
   "execution_count": 28,
   "metadata": {
    "slideshow": {
     "slide_type": "subslide"
    }
   },
   "outputs": [
    {
     "data": {
      "image/png": "[encoded data removed]",
      "text/plain": [
       "<Figure size 576x360 with 1 Axes>"
      ]
     },
     "metadata": {
      "needs_background": "light"
     },
     "output_type": "display_data"
    }
   ],
   "source": [
    "#since user_type is caetgorical let us plot a bar graph\n",
    "plt.figure(figsize=[8, 5])\n",
    "color=sb.color_palette()[0]\n",
    "sb.countplot(data=ford_go_bike, x='user_type',color=color);"
   ]
  },
  {
   "cell_type": "markdown",
   "metadata": {
    "slideshow": {
     "slide_type": "subslide"
    }
   },
   "source": [
    "#### Observation\n",
    "The bar graph shows visually how subscriber user type are more than customer user type"
   ]
  },
  {
   "cell_type": "markdown",
   "metadata": {
    "slideshow": {
     "slide_type": "skip"
    }
   },
   "source": [
    "### Question 3\n",
    "####  what category of gender type mostly make use of the bike sharing system?"
   ]
  },
  {
   "cell_type": "code",
   "execution_count": 20,
   "metadata": {
    "slideshow": {
     "slide_type": "skip"
    }
   },
   "outputs": [
    {
     "name": "stdout",
     "output_type": "stream",
     "text": [
      "Male              130500\n",
      "Female             40805\n",
      "Rather not say      8263\n",
      "Other               3647\n",
      "Name: member_gender, dtype: int64\n"
     ]
    },
    {
     "data": {
      "image/png": "[encoded data removed]",
      "text/plain": [
       "<Figure size 576x360 with 1 Axes>"
      ]
     },
     "metadata": {
      "needs_background": "light"
     },
     "output_type": "display_data"
    }
   ],
   "source": [
    "#we look at the gender by plotting a bar graph\n",
    "#we start by looking at the user type value counts\n",
    "print(ford_go_bike['member_gender'].value_counts())\n",
    "#since it is caetgorical let us plot a bar graph\n",
    "plt.figure(figsize=[8, 5])\n",
    "color=sb.color_palette()[0]\n",
    "sb.countplot(data=ford_go_bike, x='member_gender',color=color);"
   ]
  },
  {
   "cell_type": "markdown",
   "metadata": {
    "slideshow": {
     "slide_type": "skip"
    }
   },
   "source": [
    "### Observation\n",
    "- We have more males than females using the bike sharing system.\n",
    "- note that \"rather not say\" was used to fill genders that are not male, female or others."
   ]
  },
  {
   "cell_type": "markdown",
   "metadata": {
    "slideshow": {
     "slide_type": "subslide"
    }
   },
   "source": [
    "### Question 4\n",
    "####  Were more bikes shared for all trip?"
   ]
  },
  {
   "cell_type": "code",
   "execution_count": 21,
   "metadata": {
    "slideshow": {
     "slide_type": "subslide"
    }
   },
   "outputs": [
    {
     "data": {
      "text/plain": [
       "<AxesSubplot:xlabel='bike_share_for_all_trip', ylabel='count'>"
      ]
     },
     "execution_count": 21,
     "metadata": {},
     "output_type": "execute_result"
    },
    {
     "data": {
      "image/png": "[encoded data removed]",
      "text/plain": [
       "<Figure size 432x288 with 1 Axes>"
      ]
     },
     "metadata": {
      "needs_background": "light"
     },
     "output_type": "display_data"
    }
   ],
   "source": [
    "#bike_share_for_all_trip\n",
    "ford_go_bike['bike_share_for_all_trip'].value_counts()\n",
    "color=sb.color_palette()[0]\n",
    "sb.countplot(data=ford_go_bike, x='bike_share_for_all_trip', color=color)"
   ]
  },
  {
   "cell_type": "markdown",
   "metadata": {
    "slideshow": {
     "slide_type": "subslide"
    }
   },
   "source": [
    "### Observation\n",
    "- Majority of users did not share their bike for all trip only a few did as shown from the visualization above"
   ]
  },
  {
   "cell_type": "markdown",
   "metadata": {},
   "source": [
    "### Question 5\n",
    "####  what was the highest duration of a bike trip ?"
   ]
  },
  {
   "cell_type": "code",
   "execution_count": 22,
   "metadata": {},
   "outputs": [
    {
     "data": {
      "text/plain": [
       "<AxesSubplot:xlabel='duration_sec', ylabel='count'>"
      ]
     },
     "execution_count": 22,
     "metadata": {},
     "output_type": "execute_result"
    },
    {
     "data": {
      "image/png": "[encoded data removed]",
      "text/plain": [
       "<Figure size 576x360 with 1 Axes>"
      ]
     },
     "metadata": {
      "needs_background": "light"
     },
     "output_type": "display_data"
    }
   ],
   "source": [
    "#let us check on the duration\n",
    "\n",
    "plt.figure(figsize=[8, 5])\n",
    "color=sb.color_palette()[0]\n",
    "sb.countplot(data=ford_go_bike, x='duration_sec',color=color)"
   ]
  },
  {
   "cell_type": "markdown",
   "metadata": {},
   "source": [
    "### Observation\n",
    "- Due to alot of data, our visualization is not clear.We can use bins and start from the minimum duration(60)\n",
    "- This observation is handled in the next plot."
   ]
  },
  {
   "cell_type": "code",
   "execution_count": 109,
   "metadata": {},
   "outputs": [
    {
     "data": {
      "image/png": "[encoded data removed]",
      "text/plain": [
       "<Figure size 576x360 with 1 Axes>"
      ]
     },
     "metadata": {
      "needs_background": "light"
     },
     "output_type": "display_data"
    }
   ],
   "source": [
    "binsize =1\n",
    "bins = np.arange(60, ford_go_bike['duration_sec'].max()+binsize, binsize)\n",
    "\n",
    "plt.figure(figsize=[8, 5])\n",
    "plt.hist(data = ford_go_bike, x = 'duration_sec', bins = bins)\n",
    "plt.xlabel('Duration (s)')\n",
    "plt.show()"
   ]
  },
  {
   "cell_type": "markdown",
   "metadata": {},
   "source": [
    "#### Observation\n",
    "- Outliers can still be seen , so we use xlim[0, 2000] to handle that"
   ]
  },
  {
   "cell_type": "code",
   "execution_count": 112,
   "metadata": {},
   "outputs": [
    {
     "data": {
      "image/png": "[encoded data removed]",
      "text/plain": [
       "<Figure size 1080x360 with 1 Axes>"
      ]
     },
     "metadata": {
      "needs_background": "light"
     },
     "output_type": "display_data"
    }
   ],
   "source": [
    "#using plt.xlim to handle too much data points\n",
    "binsize = 60\n",
    "bins = np.arange(0, new_df_duration['duration_sec'].max()+binsize, binsize)\n",
    "\n",
    "plt.figure(figsize=[15, 5])\n",
    "plt.hist(data = new_df_duration, x = 'duration_sec', bins = bins)\n",
    "plt.xlim([60,2000])\n",
    "plt.xlabel('Duration (s)')\n",
    "plt.show()\n"
   ]
  },
  {
   "cell_type": "markdown",
   "metadata": {},
   "source": [
    "### Observation\n",
    "- we have so many data points, so we convert the duration in seconds to minutes.\n",
    "- The converted duration to minutes is used to further answer the same question in minutes(Question 6)."
   ]
  },
  {
   "cell_type": "code",
   "execution_count": 30,
   "metadata": {
    "scrolled": true
   },
   "outputs": [
    {
     "data": {
      "text/html": [
       "<div>\n",
       "<style scoped>\n",
       "    .dataframe tbody tr th:only-of-type {\n",
       "        vertical-align: middle;\n",
       "    }\n",
       "\n",
       "    .dataframe tbody tr th {\n",
       "        vertical-align: top;\n",
       "    }\n",
       "\n",
       "    .dataframe thead th {\n",
       "        text-align: right;\n",
       "    }\n",
       "</style>\n",
       "<table border=\"1\" class=\"dataframe\">\n",
       "  <thead>\n",
       "    <tr style=\"text-align: right;\">\n",
       "      <th></th>\n",
       "      <th>duration_sec</th>\n",
       "      <th>duration_min</th>\n",
       "      <th>duration_hour</th>\n",
       "    </tr>\n",
       "  </thead>\n",
       "  <tbody>\n",
       "    <tr>\n",
       "      <th>0</th>\n",
       "      <td>52185</td>\n",
       "      <td>869.750000</td>\n",
       "      <td>14.495833</td>\n",
       "    </tr>\n",
       "    <tr>\n",
       "      <th>1</th>\n",
       "      <td>42521</td>\n",
       "      <td>708.683333</td>\n",
       "      <td>11.811389</td>\n",
       "    </tr>\n",
       "    <tr>\n",
       "      <th>2</th>\n",
       "      <td>61854</td>\n",
       "      <td>1030.900000</td>\n",
       "      <td>17.181667</td>\n",
       "    </tr>\n",
       "    <tr>\n",
       "      <th>3</th>\n",
       "      <td>36490</td>\n",
       "      <td>608.166667</td>\n",
       "      <td>10.136111</td>\n",
       "    </tr>\n",
       "    <tr>\n",
       "      <th>4</th>\n",
       "      <td>1585</td>\n",
       "      <td>26.416667</td>\n",
       "      <td>0.440278</td>\n",
       "    </tr>\n",
       "  </tbody>\n",
       "</table>\n",
       "</div>"
      ],
      "text/plain": [
       "   duration_sec  duration_min  duration_hour\n",
       "0         52185    869.750000      14.495833\n",
       "1         42521    708.683333      11.811389\n",
       "2         61854   1030.900000      17.181667\n",
       "3         36490    608.166667      10.136111\n",
       "4          1585     26.416667       0.440278"
      ]
     },
     "execution_count": 30,
     "metadata": {},
     "output_type": "execute_result"
    }
   ],
   "source": [
    "#lets convert seconds to minutes and minutes to hours\n",
    "new_df_duration = ford_go_bike[['duration_sec']].copy()\n",
    "new_df_duration['duration_sec']=new_df_duration['duration_sec']\n",
    "new_df_duration['duration_min']=new_df_duration['duration_sec']/60\n",
    "new_df_duration['duration_hour']=new_df_duration['duration_min']/60\n",
    "\n",
    "new_df_duration.head()"
   ]
  },
  {
   "cell_type": "markdown",
   "metadata": {},
   "source": [
    "### Question 6\n",
    "#### What is the highest duration in minutes?"
   ]
  },
  {
   "cell_type": "code",
   "execution_count": 111,
   "metadata": {},
   "outputs": [
    {
     "data": {
      "image/png": "[encoded data removed]",
      "text/plain": [
       "<Figure size 576x360 with 1 Axes>"
      ]
     },
     "metadata": {
      "needs_background": "light"
     },
     "output_type": "display_data"
    }
   ],
   "source": [
    "#converted duration from sec to min histogram\n",
    "binsize = 1\n",
    "bins = np.arange(0, new_df_duration['duration_min'].max()+binsize, binsize)\n",
    "\n",
    "plt.figure(figsize=[8, 5])\n",
    "plt.hist(data = new_df_duration, x = 'duration_min', bins = bins)\n",
    "plt.xlim([0,60])\n",
    "plt.xlabel('Duration (m)')\n",
    "plt.show()\n"
   ]
  },
  {
   "cell_type": "markdown",
   "metadata": {},
   "source": [
    "### Observation\n",
    "- The highest duration is between 5 to 7 minutes as shown on the histogram visualization"
   ]
  },
  {
   "cell_type": "markdown",
   "metadata": {
    "slideshow": {
     "slide_type": "subslide"
    }
   },
   "source": [
    "### Question 7\n",
    "#### What is the highest distance in km?"
   ]
  },
  {
   "cell_type": "code",
   "execution_count": 35,
   "metadata": {
    "slideshow": {
     "slide_type": "subslide"
    }
   },
   "outputs": [
    {
     "data": {
      "image/png": "[encoded data removed]",
      "text/plain": [
       "<Figure size 576x360 with 1 Axes>"
      ]
     },
     "metadata": {
      "needs_background": "light"
     },
     "output_type": "display_data"
    }
   ],
   "source": [
    "#converted lat and long to distance (dist) histogram for distance (km)\n",
    "binsize = 0.5\n",
    "bins = np.arange(0, ford_go_bike['dist'].max()+binsize, binsize)\n",
    "\n",
    "plt.figure(figsize=[8, 5])\n",
    "plt.hist(data = ford_go_bike, x = 'dist', bins = bins)\n",
    "plt.xlim([-1,10])\n",
    "plt.xlabel('Distance (Km)')\n",
    "plt.show()\n"
   ]
  },
  {
   "cell_type": "markdown",
   "metadata": {
    "slideshow": {
     "slide_type": "skip"
    }
   },
   "source": [
    "### Observation\n",
    "- it is observed that highest observed distance(km) lies around 1km."
   ]
  },
  {
   "cell_type": "markdown",
   "metadata": {
    "slideshow": {
     "slide_type": "skip"
    }
   },
   "source": [
    "### Question 8\n",
    "#### What is the distribution of member birth year from 1900 ot 2001?"
   ]
  },
  {
   "cell_type": "code",
   "execution_count": 36,
   "metadata": {
    "scrolled": true,
    "slideshow": {
     "slide_type": "skip"
    }
   },
   "outputs": [
    {
     "data": {
      "image/png": "[encoded data removed]",
      "text/plain": [
       "<Figure size 576x360 with 1 Axes>"
      ]
     },
     "metadata": {
      "needs_background": "light"
     },
     "output_type": "display_data"
    }
   ],
   "source": [
    "#member birth from 1900\n",
    "binsize = 1\n",
    "bins = np.arange(1900, ford_go_bike['member_birth_year'].max()+binsize, binsize)\n",
    "\n",
    "plt.figure(figsize=[8, 5])\n",
    "plt.hist(data = ford_go_bike, x = 'member_birth_year', bins = bins)\n",
    "#plt.xlim([0,100])\n",
    "plt.xlabel('Member Birth year')\n",
    "plt.show()\n"
   ]
  },
  {
   "cell_type": "markdown",
   "metadata": {
    "slideshow": {
     "slide_type": "skip"
    }
   },
   "source": [
    "### Observation\n",
    "- our visualization shows users age to rise from 1960 to 1985\n",
    "- a drop was observed from 1985 and a rise from 1993\n",
    "- we can further check from 1940 to 2001 "
   ]
  },
  {
   "cell_type": "code",
   "execution_count": 37,
   "metadata": {
    "scrolled": false,
    "slideshow": {
     "slide_type": "skip"
    }
   },
   "outputs": [
    {
     "data": {
      "image/png": "[encoded data removed]",
      "text/plain": [
       "<Figure size 576x360 with 1 Axes>"
      ]
     },
     "metadata": {
      "needs_background": "light"
     },
     "output_type": "display_data"
    }
   ],
   "source": [
    "#member birth using 1940 as our starting xticks\n",
    "binsize = 1\n",
    "bins = np.arange(1940, ford_go_bike['member_birth_year'].max()+binsize, binsize)\n",
    "\n",
    "plt.figure(figsize=[8, 5])\n",
    "plt.hist(data = ford_go_bike, x = 'member_birth_year', bins = bins)\n",
    "#plt.xlim([0,100])\n",
    "plt.xlabel('member_birth_year')\n",
    "plt.show()\n"
   ]
  },
  {
   "cell_type": "markdown",
   "metadata": {
    "slideshow": {
     "slide_type": "skip"
    }
   },
   "source": [
    "### Observation\n",
    "- From 1940 observation, we can see 1986 to have higher no of users"
   ]
  },
  {
   "cell_type": "markdown",
   "metadata": {
    "slideshow": {
     "slide_type": "skip"
    }
   },
   "source": [
    "### Question 9\n",
    "#### What is the maximum speed in m/s?"
   ]
  },
  {
   "cell_type": "code",
   "execution_count": 38,
   "metadata": {
    "slideshow": {
     "slide_type": "skip"
    }
   },
   "outputs": [],
   "source": [
    "#lets calculate speeed which is distance/ time\n",
    "#dist is in km, so convert to meters, \n",
    "ford_go_bike['speed']=(ford_go_bike['dist']*1000)/ford_go_bike['duration_sec']"
   ]
  },
  {
   "cell_type": "code",
   "execution_count": 39,
   "metadata": {
    "slideshow": {
     "slide_type": "skip"
    }
   },
   "outputs": [
    {
     "data": {
      "image/png": "[encoded data removed]",
      "text/plain": [
       "<Figure size 576x360 with 1 Axes>"
      ]
     },
     "metadata": {
      "needs_background": "light"
     },
     "output_type": "display_data"
    }
   ],
   "source": [
    "#speed historgram \n",
    "ford_go_bike['speed'].value_counts();\n",
    "binsize = 0.5\n",
    "bins = np.arange(0, ford_go_bike['speed'].max()+binsize, binsize)\n",
    "\n",
    "plt.figure(figsize=[8, 5])\n",
    "plt.hist(data = ford_go_bike, x = 'speed', bins = bins)\n",
    "#plt.xlim([0,100])\n",
    "plt.xlabel('Speed')\n",
    "plt.show()\n"
   ]
  },
  {
   "cell_type": "markdown",
   "metadata": {
    "slideshow": {
     "slide_type": "skip"
    }
   },
   "source": [
    "### Observation\n",
    "- speed tends to be highest around 3m/s"
   ]
  },
  {
   "cell_type": "markdown",
   "metadata": {
    "slideshow": {
     "slide_type": "subslide"
    }
   },
   "source": [
    "### Discuss the distribution(s) of your variable(s) of interest. Were there any unusual points? Did you need to perform any transformations?\n",
    "\n",
    "#### start_time and end_time \n",
    "- A transformation was made on start_time and end_time to obtain start day and end day.The transformed variables show Thursday to have highest no of rides for both columns. Weekends had less rides, and Monday was an average day to ride. \n",
    "\n",
    "#### user_type variable\n",
    "- This variable had two categories,subscriber and customer. The subscriber user type are more than customer user type by a significant number.\n",
    "\n",
    "#### member_gender\n",
    "-  A transformation was needed in that empty space existed for gender which was filled wih :rather not say\". Result shows we have more males than females using the bike sharing system.\n",
    "\n",
    "#### bike_share_for_all_trip\n",
    "- No transformation was carried out here and by a significant amount, many did not share their bike for all trip( chosed no).\n",
    "\n",
    "#### duration_sec\n",
    "- Due to alot of data, our visualization is not clear, We used bins and our range on the xlimit started from 60 which was minimum duration. Outliers were observed, so we use xlim[0, 2000] to handle that. We had so many data points, so we convert the duration in seconds to minutes. The converted duration to minutes was used and The highest duration was between 5 to 7 minutes as shown on the histogram visualization.\n",
    "\n",
    "#### dist\n",
    "- we converted start_station_latitude,start_station_longitude,end_station_latitude and end_station_longitude to distance (km). We observed that highest distance(km) lies around 1km.\n",
    "\n",
    "#### member_birth_year\n",
    "\n",
    "- Our visualization shows users age to rise from 1960 to 1985, a drop was observed from 1985 and a rise from 1993. we did a further check from 1940 to 2001 and recorded  birth year 1986 to have higher no of biker users\n",
    "\n",
    "#### speed\n",
    "- A transformation was made using dist/time formula to calculate speed and we observed speed tends to be highest around 3m/s \n",
    "\n",
    "### Of the features you investigated, were there any unusual distributions? Did you perform any operations on the data to tidy, adjust, or change the form of the data? If so, why did you do this?\n",
    "\n",
    "- member_gender was filled wih :rather not say\" as the rows contain empty spaces\n",
    "- we perfomed a change in duration_sec by converting it into minutes as minutes is easier to report or handle. e.g he rode for 789 seconds is better expressed as he rode for 13.15 seconds.\n",
    "- Distance (dist) variable was obtained from  start_station_latitude,start_station_longitude,end_station_latitude and end_station_longitude. operations on the four variables resulted in a distance (km). This was because distance was not given on the original dataset.\n",
    "- member_birth_year had a lot of data points and was difficult to see insights. We used range from 1960 to 1985, 1940 to 2001 and such to have a clearer view with visualizations.\n",
    "- A transformation was made using dist/time formula to calculate speed because speed was not given in the original dataset.\n"
   ]
  },
  {
   "cell_type": "markdown",
   "metadata": {
    "slideshow": {
     "slide_type": "slide"
    }
   },
   "source": [
    "## Bivariate Exploration\n",
    "\n",
    "> In this section, We investigate relationships between pairs of variables in our ford_go_bike\n",
    "datase."
   ]
  },
  {
   "cell_type": "code",
   "execution_count": 40,
   "metadata": {
    "scrolled": true,
    "slideshow": {
     "slide_type": "skip"
    }
   },
   "outputs": [
    {
     "name": "stdout",
     "output_type": "stream",
     "text": [
      "<class 'pandas.core.frame.DataFrame'>\n",
      "Int64Index: 183215 entries, 0 to 183411\n",
      "Data columns (total 18 columns):\n",
      " #   Column                   Non-Null Count   Dtype         \n",
      "---  ------                   --------------   -----         \n",
      " 0   duration_sec             183215 non-null  int64         \n",
      " 1   start_time               183215 non-null  datetime64[ns]\n",
      " 2   end_time                 183215 non-null  datetime64[ns]\n",
      " 3   start_station_id         183215 non-null  float64       \n",
      " 4   start_station_name       183215 non-null  object        \n",
      " 5   start_station_latitude   183215 non-null  float64       \n",
      " 6   start_station_longitude  183215 non-null  float64       \n",
      " 7   end_station_id           183215 non-null  float64       \n",
      " 8   end_station_name         183215 non-null  object        \n",
      " 9   end_station_latitude     183215 non-null  float64       \n",
      " 10  end_station_longitude    183215 non-null  float64       \n",
      " 11  bike_id                  183215 non-null  int64         \n",
      " 12  user_type                183215 non-null  object        \n",
      " 13  member_birth_year        183215 non-null  int32         \n",
      " 14  member_gender            183215 non-null  object        \n",
      " 15  bike_share_for_all_trip  183215 non-null  object        \n",
      " 16  dist                     183215 non-null  float64       \n",
      " 17  speed                    183215 non-null  float64       \n",
      "dtypes: datetime64[ns](2), float64(8), int32(1), int64(2), object(5)\n",
      "memory usage: 25.9+ MB\n"
     ]
    }
   ],
   "source": [
    "# Bivariate exploration\n",
    "ford_go_bike.info()"
   ]
  },
  {
   "cell_type": "code",
   "execution_count": 113,
   "metadata": {
    "scrolled": false,
    "slideshow": {
     "slide_type": "skip"
    }
   },
   "outputs": [
    {
     "data": {
      "text/html": [
       "<div>\n",
       "<style scoped>\n",
       "    .dataframe tbody tr th:only-of-type {\n",
       "        vertical-align: middle;\n",
       "    }\n",
       "\n",
       "    .dataframe tbody tr th {\n",
       "        vertical-align: top;\n",
       "    }\n",
       "\n",
       "    .dataframe thead th {\n",
       "        text-align: right;\n",
       "    }\n",
       "</style>\n",
       "<table border=\"1\" class=\"dataframe\">\n",
       "  <thead>\n",
       "    <tr style=\"text-align: right;\">\n",
       "      <th></th>\n",
       "      <th>duration_sec</th>\n",
       "      <th>start_station_id</th>\n",
       "      <th>start_station_latitude</th>\n",
       "      <th>start_station_longitude</th>\n",
       "      <th>end_station_id</th>\n",
       "      <th>end_station_latitude</th>\n",
       "      <th>end_station_longitude</th>\n",
       "      <th>bike_id</th>\n",
       "      <th>member_birth_year</th>\n",
       "      <th>dist</th>\n",
       "      <th>speed</th>\n",
       "    </tr>\n",
       "  </thead>\n",
       "  <tbody>\n",
       "    <tr>\n",
       "      <th>duration_sec</th>\n",
       "      <td>1.000000</td>\n",
       "      <td>-0.008652</td>\n",
       "      <td>0.010961</td>\n",
       "      <td>-0.038537</td>\n",
       "      <td>0.003064</td>\n",
       "      <td>0.011322</td>\n",
       "      <td>-0.039524</td>\n",
       "      <td>-0.006115</td>\n",
       "      <td>-0.056249</td>\n",
       "      <td>0.126922</td>\n",
       "      <td>-0.245614</td>\n",
       "    </tr>\n",
       "    <tr>\n",
       "      <th>start_station_id</th>\n",
       "      <td>-0.008652</td>\n",
       "      <td>1.000000</td>\n",
       "      <td>-0.190978</td>\n",
       "      <td>0.459169</td>\n",
       "      <td>0.336227</td>\n",
       "      <td>-0.179771</td>\n",
       "      <td>0.466755</td>\n",
       "      <td>-0.064677</td>\n",
       "      <td>0.019639</td>\n",
       "      <td>-0.056973</td>\n",
       "      <td>-0.010590</td>\n",
       "    </tr>\n",
       "    <tr>\n",
       "      <th>start_station_latitude</th>\n",
       "      <td>0.010961</td>\n",
       "      <td>-0.190978</td>\n",
       "      <td>1.000000</td>\n",
       "      <td>-0.672735</td>\n",
       "      <td>-0.179727</td>\n",
       "      <td>0.989825</td>\n",
       "      <td>-0.678205</td>\n",
       "      <td>0.049669</td>\n",
       "      <td>-0.020175</td>\n",
       "      <td>0.066849</td>\n",
       "      <td>0.073408</td>\n",
       "    </tr>\n",
       "    <tr>\n",
       "      <th>start_station_longitude</th>\n",
       "      <td>-0.038537</td>\n",
       "      <td>0.459169</td>\n",
       "      <td>-0.672735</td>\n",
       "      <td>1.000000</td>\n",
       "      <td>0.479688</td>\n",
       "      <td>-0.677376</td>\n",
       "      <td>0.992314</td>\n",
       "      <td>-0.142066</td>\n",
       "      <td>0.056089</td>\n",
       "      <td>-0.154334</td>\n",
       "      <td>-0.029044</td>\n",
       "    </tr>\n",
       "    <tr>\n",
       "      <th>end_station_id</th>\n",
       "      <td>0.003064</td>\n",
       "      <td>0.336227</td>\n",
       "      <td>-0.179727</td>\n",
       "      <td>0.479688</td>\n",
       "      <td>1.000000</td>\n",
       "      <td>-0.197992</td>\n",
       "      <td>0.469027</td>\n",
       "      <td>-0.054607</td>\n",
       "      <td>0.017298</td>\n",
       "      <td>-0.076684</td>\n",
       "      <td>-0.058006</td>\n",
       "    </tr>\n",
       "    <tr>\n",
       "      <th>end_station_latitude</th>\n",
       "      <td>0.011322</td>\n",
       "      <td>-0.179771</td>\n",
       "      <td>0.989825</td>\n",
       "      <td>-0.677376</td>\n",
       "      <td>-0.197992</td>\n",
       "      <td>1.000000</td>\n",
       "      <td>-0.679774</td>\n",
       "      <td>0.048912</td>\n",
       "      <td>-0.020660</td>\n",
       "      <td>0.069875</td>\n",
       "      <td>0.075705</td>\n",
       "    </tr>\n",
       "    <tr>\n",
       "      <th>end_station_longitude</th>\n",
       "      <td>-0.039524</td>\n",
       "      <td>0.466755</td>\n",
       "      <td>-0.678205</td>\n",
       "      <td>0.992314</td>\n",
       "      <td>0.469027</td>\n",
       "      <td>-0.679774</td>\n",
       "      <td>1.000000</td>\n",
       "      <td>-0.143826</td>\n",
       "      <td>0.056721</td>\n",
       "      <td>-0.147256</td>\n",
       "      <td>-0.020874</td>\n",
       "    </tr>\n",
       "    <tr>\n",
       "      <th>bike_id</th>\n",
       "      <td>-0.006115</td>\n",
       "      <td>-0.064677</td>\n",
       "      <td>0.049669</td>\n",
       "      <td>-0.142066</td>\n",
       "      <td>-0.054607</td>\n",
       "      <td>0.048912</td>\n",
       "      <td>-0.143826</td>\n",
       "      <td>1.000000</td>\n",
       "      <td>0.026727</td>\n",
       "      <td>0.099563</td>\n",
       "      <td>0.144176</td>\n",
       "    </tr>\n",
       "    <tr>\n",
       "      <th>member_birth_year</th>\n",
       "      <td>-0.056249</td>\n",
       "      <td>0.019639</td>\n",
       "      <td>-0.020175</td>\n",
       "      <td>0.056089</td>\n",
       "      <td>0.017298</td>\n",
       "      <td>-0.020660</td>\n",
       "      <td>0.056721</td>\n",
       "      <td>0.026727</td>\n",
       "      <td>1.000000</td>\n",
       "      <td>-0.005953</td>\n",
       "      <td>0.067696</td>\n",
       "    </tr>\n",
       "    <tr>\n",
       "      <th>dist</th>\n",
       "      <td>0.126922</td>\n",
       "      <td>-0.056973</td>\n",
       "      <td>0.066849</td>\n",
       "      <td>-0.154334</td>\n",
       "      <td>-0.076684</td>\n",
       "      <td>0.069875</td>\n",
       "      <td>-0.147256</td>\n",
       "      <td>0.099563</td>\n",
       "      <td>-0.005953</td>\n",
       "      <td>1.000000</td>\n",
       "      <td>0.313308</td>\n",
       "    </tr>\n",
       "    <tr>\n",
       "      <th>speed</th>\n",
       "      <td>-0.245614</td>\n",
       "      <td>-0.010590</td>\n",
       "      <td>0.073408</td>\n",
       "      <td>-0.029044</td>\n",
       "      <td>-0.058006</td>\n",
       "      <td>0.075705</td>\n",
       "      <td>-0.020874</td>\n",
       "      <td>0.144176</td>\n",
       "      <td>0.067696</td>\n",
       "      <td>0.313308</td>\n",
       "      <td>1.000000</td>\n",
       "    </tr>\n",
       "  </tbody>\n",
       "</table>\n",
       "</div>"
      ],
      "text/plain": [
       "                         duration_sec  start_station_id  \\\n",
       "duration_sec                 1.000000         -0.008652   \n",
       "start_station_id            -0.008652          1.000000   \n",
       "start_station_latitude       0.010961         -0.190978   \n",
       "start_station_longitude     -0.038537          0.459169   \n",
       "end_station_id               0.003064          0.336227   \n",
       "end_station_latitude         0.011322         -0.179771   \n",
       "end_station_longitude       -0.039524          0.466755   \n",
       "bike_id                     -0.006115         -0.064677   \n",
       "member_birth_year           -0.056249          0.019639   \n",
       "dist                         0.126922         -0.056973   \n",
       "speed                       -0.245614         -0.010590   \n",
       "\n",
       "                         start_station_latitude  start_station_longitude  \\\n",
       "duration_sec                           0.010961                -0.038537   \n",
       "start_station_id                      -0.190978                 0.459169   \n",
       "start_station_latitude                 1.000000                -0.672735   \n",
       "start_station_longitude               -0.672735                 1.000000   \n",
       "end_station_id                        -0.179727                 0.479688   \n",
       "end_station_latitude                   0.989825                -0.677376   \n",
       "end_station_longitude                 -0.678205                 0.992314   \n",
       "bike_id                                0.049669                -0.142066   \n",
       "member_birth_year                     -0.020175                 0.056089   \n",
       "dist                                   0.066849                -0.154334   \n",
       "speed                                  0.073408                -0.029044   \n",
       "\n",
       "                         end_station_id  end_station_latitude  \\\n",
       "duration_sec                   0.003064              0.011322   \n",
       "start_station_id               0.336227             -0.179771   \n",
       "start_station_latitude        -0.179727              0.989825   \n",
       "start_station_longitude        0.479688             -0.677376   \n",
       "end_station_id                 1.000000             -0.197992   \n",
       "end_station_latitude          -0.197992              1.000000   \n",
       "end_station_longitude          0.469027             -0.679774   \n",
       "bike_id                       -0.054607              0.048912   \n",
       "member_birth_year              0.017298             -0.020660   \n",
       "dist                          -0.076684              0.069875   \n",
       "speed                         -0.058006              0.075705   \n",
       "\n",
       "                         end_station_longitude   bike_id  member_birth_year  \\\n",
       "duration_sec                         -0.039524 -0.006115          -0.056249   \n",
       "start_station_id                      0.466755 -0.064677           0.019639   \n",
       "start_station_latitude               -0.678205  0.049669          -0.020175   \n",
       "start_station_longitude               0.992314 -0.142066           0.056089   \n",
       "end_station_id                        0.469027 -0.054607           0.017298   \n",
       "end_station_latitude                 -0.679774  0.048912          -0.020660   \n",
       "end_station_longitude                 1.000000 -0.143826           0.056721   \n",
       "bike_id                              -0.143826  1.000000           0.026727   \n",
       "member_birth_year                     0.056721  0.026727           1.000000   \n",
       "dist                                 -0.147256  0.099563          -0.005953   \n",
       "speed                                -0.020874  0.144176           0.067696   \n",
       "\n",
       "                             dist     speed  \n",
       "duration_sec             0.126922 -0.245614  \n",
       "start_station_id        -0.056973 -0.010590  \n",
       "start_station_latitude   0.066849  0.073408  \n",
       "start_station_longitude -0.154334 -0.029044  \n",
       "end_station_id          -0.076684 -0.058006  \n",
       "end_station_latitude     0.069875  0.075705  \n",
       "end_station_longitude   -0.147256 -0.020874  \n",
       "bike_id                  0.099563  0.144176  \n",
       "member_birth_year       -0.005953  0.067696  \n",
       "dist                     1.000000  0.313308  \n",
       "speed                    0.313308  1.000000  "
      ]
     },
     "execution_count": 113,
     "metadata": {},
     "output_type": "execute_result"
    }
   ],
   "source": [
    "ford_go_bike.corr()"
   ]
  },
  {
   "cell_type": "markdown",
   "metadata": {
    "slideshow": {
     "slide_type": "skip"
    }
   },
   "source": [
    "### Question 10\n",
    "#### What is the correlation between Distance(m) and speed(m/s)?"
   ]
  },
  {
   "cell_type": "code",
   "execution_count": 141,
   "metadata": {
    "slideshow": {
     "slide_type": "skip"
    }
   },
   "outputs": [
    {
     "data": {
      "image/png": "[encoded data removed]",
      "text/plain": [
       "<Figure size 720x504 with 1 Axes>"
      ]
     },
     "metadata": {
      "needs_background": "light"
     },
     "output_type": "display_data"
    }
   ],
   "source": [
    "\n",
    "plt.figure(figsize=[10, 7])\n",
    "x=ford_go_bike['dist']*1000\n",
    "plt.xlim([0,20000])\n",
    "plt.xlabel('Distance (m)')\n",
    "plt.ylabel('speed (m/s)')\n",
    "plt.title('Scatter plot for Distance vs Speed')\n",
    "plt.scatter(data=ford_go_bike,x=x, y='speed');"
   ]
  },
  {
   "cell_type": "markdown",
   "metadata": {
    "slideshow": {
     "slide_type": "skip"
    }
   },
   "source": [
    "#### Observation\n",
    "- From the scatter plot, we can see a positive correlation between distance and speed with more correlation around speed from 0-7 m/s and distance from 0 to less than 10000m"
   ]
  },
  {
   "cell_type": "markdown",
   "metadata": {
    "slideshow": {
     "slide_type": "skip"
    }
   },
   "source": [
    "### Question 11\n",
    "#### What is the relationship between user_type and member_gender?"
   ]
  },
  {
   "cell_type": "code",
   "execution_count": 176,
   "metadata": {
    "slideshow": {
     "slide_type": "skip"
    }
   },
   "outputs": [
    {
     "data": {
      "image/png": "[encoded data removed]",
      "text/plain": [
       "<Figure size 432x288 with 1 Axes>"
      ]
     },
     "metadata": {
      "needs_background": "light"
     },
     "output_type": "display_data"
    }
   ],
   "source": [
    "sb.countplot(data = ford_go_bike, x = 'user_type', hue = 'member_gender', palette = 'Blues')\n",
    "plt.xlabel('user type')\n",
    "plt.title('Bar chart for user type and member gender');"
   ]
  },
  {
   "cell_type": "markdown",
   "metadata": {
    "slideshow": {
     "slide_type": "skip"
    }
   },
   "source": [
    "#### Observation\n",
    "- the subscriber user type had more males and females than the customer user type."
   ]
  },
  {
   "cell_type": "markdown",
   "metadata": {
    "slideshow": {
     "slide_type": "skip"
    }
   },
   "source": [
    "### Question 12\n",
    "#### What is the relationship between user_type and bike_share_for_all_trip?"
   ]
  },
  {
   "cell_type": "code",
   "execution_count": 177,
   "metadata": {
    "slideshow": {
     "slide_type": "skip"
    }
   },
   "outputs": [
    {
     "data": {
      "image/png": "[encoded data removed]",
      "text/plain": [
       "<Figure size 432x288 with 1 Axes>"
      ]
     },
     "metadata": {
      "needs_background": "light"
     },
     "output_type": "display_data"
    }
   ],
   "source": [
    "sb.countplot(data = ford_go_bike, x = 'user_type', hue = 'bike_share_for_all_trip', palette = 'Blues')\n",
    "plt.xlabel('user type')\n",
    "plt.title('Bar chart for user type and bike_share_for_all_trip');"
   ]
  },
  {
   "cell_type": "markdown",
   "metadata": {
    "slideshow": {
     "slide_type": "skip"
    }
   },
   "source": [
    "#### Observation\n",
    "The subscriber user type significantly didn't share their rides, while customers also didn't share their rides. The number of subscribers that shared their rides is almost the same as the number of customers that didn't share their rides."
   ]
  },
  {
   "cell_type": "markdown",
   "metadata": {
    "slideshow": {
     "slide_type": "subslide"
    }
   },
   "source": [
    "### Question 13\n",
    "#### What is the correlation between member_birth_year(1950 to 1970) and user_type?"
   ]
  },
  {
   "cell_type": "code",
   "execution_count": 186,
   "metadata": {
    "slideshow": {
     "slide_type": "subslide"
    }
   },
   "outputs": [
    {
     "data": {
      "image/png": "[encoded data removed]",
      "text/plain": [
       "<Figure size 864x432 with 1 Axes>"
      ]
     },
     "metadata": {
      "needs_background": "light"
     },
     "output_type": "display_data"
    }
   ],
   "source": [
    "#lets reduce the member_year so we can have better visuals and insights\n",
    "membirthdf=ford_go_bike[(ford_go_bike['member_birth_year']>=1950) & (ford_go_bike['member_birth_year']<= 1970)]\n",
    "plt.figure(figsize=[12,6])\n",
    "plt.title('Member gender vs Member year of birth (1950 - 1970)')\n",
    "sb.violinplot(data=membirthdf, x='member_birth_year', y='user_type');"
   ]
  },
  {
   "cell_type": "markdown",
   "metadata": {
    "slideshow": {
     "slide_type": "subslide"
    }
   },
   "source": [
    "#### Observation\n",
    "- years from 1950 to 1956 had more subscribers than customers, while year 1957 to 1958 had more customers than subscribers. From year 1961 to 1970 had more customers than subscribers or equal."
   ]
  },
  {
   "cell_type": "markdown",
   "metadata": {
    "slideshow": {
     "slide_type": "skip"
    }
   },
   "source": [
    "### Question 14\n",
    "#### What is the correlation between member_gender and bike_share_for_all_trip?"
   ]
  },
  {
   "cell_type": "code",
   "execution_count": 46,
   "metadata": {
    "slideshow": {
     "slide_type": "skip"
    }
   },
   "outputs": [
    {
     "data": {
      "text/plain": [
       "<AxesSubplot:xlabel='member_gender', ylabel='count'>"
      ]
     },
     "execution_count": 46,
     "metadata": {},
     "output_type": "execute_result"
    },
    {
     "data": {
      "image/png": "[encoded data removed]",
      "text/plain": [
       "<Figure size 432x288 with 1 Axes>"
      ]
     },
     "metadata": {
      "needs_background": "light"
     },
     "output_type": "display_data"
    }
   ],
   "source": [
    "sb.countplot(data = ford_go_bike, x = 'member_gender', hue = 'bike_share_for_all_trip', palette = 'Blues')"
   ]
  },
  {
   "cell_type": "markdown",
   "metadata": {
    "slideshow": {
     "slide_type": "skip"
    }
   },
   "source": [
    "#### Observation\n",
    "- The distribution shows majority of male gender didn't share their trip with only a few shared. The Female gender shows majority didn't share while a few did. "
   ]
  },
  {
   "cell_type": "markdown",
   "metadata": {
    "slideshow": {
     "slide_type": "skip"
    }
   },
   "source": [
    "### Question 15 \n",
    "#### What is the correlation between end_station_name?"
   ]
  },
  {
   "cell_type": "code",
   "execution_count": 47,
   "metadata": {
    "slideshow": {
     "slide_type": "skip"
    }
   },
   "outputs": [
    {
     "data": {
      "text/plain": [
       "San Francisco Caltrain Station 2  (Townsend St at 4th St)          4857\n",
       "Market St at 10th St                                               3973\n",
       "Montgomery St BART Station (Market St at 2nd St)                   3647\n",
       "San Francisco Ferry Building (Harry Bridges Plaza)                 3368\n",
       "Powell St BART Station (Market St at 4th St)                       2997\n",
       "San Francisco Caltrain (Townsend St at 4th St)                     2947\n",
       "Berry St at 4th St                                                 2872\n",
       "The Embarcadero at Sansome St                                      2512\n",
       "Powell St BART Station (Market St at 5th St)                       2353\n",
       "Steuart St at Market St                                            2338\n",
       "Howard St at Beale St                                              2034\n",
       "Civic Center/UN Plaza BART Station (Market St at McAllister St)    1865\n",
       "Bancroft Way at Telegraph Ave                                      1814\n",
       "Beale St at Harrison St                                            1812\n",
       "2nd St at Townsend St                                              1741\n",
       "3rd St at Townsend St                                              1700\n",
       "Embarcadero BART Station (Beale St at Market St)                   1699\n",
       "4th St at Mission Bay Blvd S                                       1626\n",
       "Townsend St at 7th St                                              1540\n",
       "The Embarcadero at Steuart St                                      1447\n",
       "19th Street BART Station                                           1430\n",
       "Post St at Kearny St                                               1422\n",
       "Downtown Berkeley BART                                             1380\n",
       "Rhode Island St at 17th St                                         1345\n",
       "8th St at Brannan St                                               1331\n",
       "Folsom St at 3rd St                                                1302\n",
       "Howard St at 8th St                                                1284\n",
       "Esprit Park                                                        1266\n",
       "4th St at 16th St                                                  1208\n",
       "Spear St at Folsom St                                              1164\n",
       "Laguna St at Hayes St                                              1150\n",
       "Division St at Potrero Ave                                         1141\n",
       "Bancroft Way at College Ave                                        1124\n",
       "MacArthur BART Station                                             1114\n",
       "5th St at Folsom                                                   1101\n",
       "16th St Mission BART Station 2                                     1084\n",
       "Union Square (Powell St at Post St)                                1073\n",
       "8th St at Ringold St                                               1044\n",
       "San Francisco Public Library (Grove St at Hyde St)                 1017\n",
       "Hearst Ave at Euclid Ave                                           1012\n",
       "Lombard St at Columbus Ave                                         1007\n",
       "Mechanics Monument Plaza (Market St at Bush St)                     996\n",
       "11th St at Bryant St                                                990\n",
       "Townsend St at 5th St                                               990\n",
       "22nd St Caltrain Station                                            985\n",
       "Davis St at Jackson St                                              973\n",
       "Valencia St at 24th St                                              971\n",
       "17th St at Valencia St                                              970\n",
       "Bryant St at 2nd St                                                 951\n",
       "S Van Ness Ave at Market St                                         948\n",
       "Washington St at Kearny St                                          942\n",
       "Market St at Dolores St                                             941\n",
       "The Embarcadero at Bryant St                                        926\n",
       "5th St at Brannan St                                                922\n",
       "5th St at Virginia St                                               912\n",
       "Harrison St at 17th St                                              904\n",
       "San Fernando St at 4th St                                           895\n",
       "4th St at Harrison St                                               887\n",
       "Howard St at Mary St                                                887\n",
       "Broadway at Kearny                                                  886\n",
       "Clay St at Battery St                                               885\n",
       "Yerba Buena Center for the Arts (Howard St at 3rd St)               883\n",
       "11th St at Natoma St                                                874\n",
       "West Oakland BART Station                                           870\n",
       "China Basin St at 3rd St                                            858\n",
       "Mission Bay Kids Park                                               854\n",
       "Parker St at Fulton St                                              852\n",
       "S Park St at 3rd St                                                 841\n",
       "Ashby BART Station                                                  836\n",
       "Folsom St at 9th St                                                 834\n",
       "Victoria Manalo Draves Park                                         833\n",
       "Fell St at Stanyan St                                               833\n",
       "1st St at Folsom St                                                 824\n",
       "Mission Playground                                                  823\n",
       "2nd Ave at E 18th St                                                823\n",
       "23rd St at Tennessee St                                             813\n",
       "Harrison St at 20th St                                              804\n",
       "Howard St at 2nd St                                                 803\n",
       "Broadway at Battery St                                              802\n",
       "Myrtle St at Polk St                                                790\n",
       "Frank H Ogawa Plaza                                                 778\n",
       "Garfield Square (25th St at Harrison St)                            766\n",
       "MLK Jr Way at University Ave                                        765\n",
       "Commercial St at Montgomery St                                      764\n",
       "Hubbell St at 16th St                                               758\n",
       "San Francisco City Hall (Polk St at Grove St)                       752\n",
       "Salesforce Transit Center (Natoma St at 2nd St)                     741\n",
       "El Embarcadero at Grand Ave                                         738\n",
       "The Embarcadero at Vallejo St                                       725\n",
       "Market St at Franklin St                                            722\n",
       "7th St at Brannan St                                                715\n",
       "Grand Ave at Perkins St                                             712\n",
       "Valencia St at 22nd St                                              697\n",
       "Valencia St at 16th St                                              692\n",
       "Grand Ave at Webster St                                             689\n",
       "Mississippi St at 17th St                                           683\n",
       "San Fernando St at 7th St                                           680\n",
       "Bryant St at 15th St                                                680\n",
       "15th St at Potrero Ave                                              661\n",
       "19th St at Mission St                                               656\n",
       "McCoppin St at Valencia St                                          653\n",
       "Fulton St at Bancroft Way                                           651\n",
       "Jones St at Post St                                                 648\n",
       "Jackson Playground                                                  645\n",
       "Folsom St at 19th St                                                641\n",
       "Central Ave at Fell St                                              634\n",
       "Valencia St at Cesar Chavez St                                      634\n",
       "Berkeley Civic Center                                               633\n",
       "Valencia St at 21st St                                              631\n",
       "Pierce St at Haight St                                              626\n",
       "Haste St at Telegraph Ave                                           620\n",
       "Valencia St at Clinton Park                                         618\n",
       "Rockridge BART Station                                              617\n",
       "Golden Gate Ave at Polk St                                          612\n",
       "Cyril Magnin St at Ellis St                                         609\n",
       "Webster St at O'Farrell St                                          607\n",
       "19th St at Florida St                                               605\n",
       "Irwin St at 8th St                                                  602\n",
       "University Ave at Oxford St                                         597\n",
       "20th St at Bryant St                                                566\n",
       "Bay Pl at Vernon St                                                 560\n",
       "Lake Merritt BART Station                                           558\n",
       "Mission Dolores Park                                                557\n",
       "Page St at Scott St                                                 555\n",
       "Sanchez St at 15th St                                               536\n",
       "Grove St at Divisadero                                              528\n",
       "16th St Mission BART                                                526\n",
       "Channing Way at Shattuck Ave                                        523\n",
       "Telegraph Ave at 19th St                                            519\n",
       "Church St at Duboce Ave                                             507\n",
       "Precita Park                                                        504\n",
       "Hyde St at Post St                                                  504\n",
       "Telegraph Ave at Ashby Ave                                          502\n",
       "Telegraph Ave at Carleton St                                        493\n",
       "17th & Folsom Street Park (17th St at Folsom St)                    490\n",
       "14th St at Mission St                                               489\n",
       "24th St at Bartlett St                                              484\n",
       "18th St at Noe St                                                   481\n",
       "Raymond Kimbell Playground                                          477\n",
       "Haste St at College Ave                                             474\n",
       "Shattuck Ave at Hearst Ave                                          472\n",
       "Dolores St at 15th St                                               469\n",
       "Derby St at College Ave                                             462\n",
       "Folsom St at 13th St                                                438\n",
       "Grand Ave at Santa Clara Ave                                        438\n",
       "Folsom St at 15th St                                                434\n",
       "Russell St at College Ave                                           431\n",
       "Webster St at 2nd St                                                429\n",
       "Potrero Ave and Mariposa St                                         426\n",
       "Berry St at King St                                                 409\n",
       "Ryland Park                                                         408\n",
       "29th St at Church St                                                407\n",
       "Oregon St at Adeline St                                             407\n",
       "Vine St at Shattuck Ave                                             407\n",
       "16th St at Prosper St                                               404\n",
       "Webster St at Grove St                                              404\n",
       "Franklin Square                                                     402\n",
       "San Jose Diridon Station                                            398\n",
       "San Salvador St at 9th St                                           395\n",
       "29th St at Tiffany Ave                                              395\n",
       "North Berkeley BART Station                                         383\n",
       "10th St at Fallon St                                                376\n",
       "Broadway at 30th St                                                 375\n",
       "Broderick St at Oak St                                              375\n",
       "Golden Gate Ave at Hyde St                                          374\n",
       "McAllister St at Baker St                                           367\n",
       "O'Farrell St at Divisadero St                                       365\n",
       "Koshland Park                                                       364\n",
       "College Ave at Alcatraz Ave                                         363\n",
       "Woolsey St at Sacramento St                                         361\n",
       "Ninth St at Heinz Ave                                               361\n",
       "Bryant St at 6th St                                                 357\n",
       "17th St at Dolores St                                               347\n",
       "Broadway at 40th St                                                 345\n",
       "Milvia St at Derby St                                               338\n",
       "Father Alfred E Boeddeker Park                                      337\n",
       "California St at University Ave                                     334\n",
       "Telegraph Ave at 23rd St                                            325\n",
       "Addison St at Fourth St                                             322\n",
       "14th St at Mandela Pkwy                                             322\n",
       "The Alameda at Bush St                                              315\n",
       "Sanchez St at 17th St                                               311\n",
       "24th St at Chattanooga St                                           309\n",
       "2nd St at Julian St                                                 305\n",
       "23rd St at San Bruno Ave                                            303\n",
       "Jersey St at Castro St                                              303\n",
       "Eureka Valley Recreation Center                                     300\n",
       "Fountain Alley at S 2nd St                                          290\n",
       "Telegraph Ave at 27th St                                            290\n",
       "Lakeshore Ave at Trestle Glen Rd                                    278\n",
       "10th St at University Ave                                           277\n",
       "Morrison Ave at Julian St                                           276\n",
       "Paseo De San Antonio at 2nd St                                      276\n",
       "Julian St at The Alameda                                            274\n",
       "49th St at Telegraph Ave                                            271\n",
       "Golden Gate Ave at Franklin St                                      270\n",
       "Ninth St at Parker St                                               268\n",
       "Genoa St at 55th St                                                 264\n",
       "Mosswood Park                                                       261\n",
       "22nd St at Dolores St                                               260\n",
       "45th St at Manila                                                   259\n",
       "Masonic Ave at Turk St                                              259\n",
       "Duboce Park                                                         256\n",
       "Channing Way at San Pablo Ave                                       256\n",
       "Doyle St at 59th St                                                 254\n",
       "Alamo Square (Steiner St at Fulton St)                              253\n",
       "Turk St at Fillmore St                                              252\n",
       "Virginia St at Shattuck Ave                                         249\n",
       "65th St at Hollis St                                                248\n",
       "5th St at San Salvador St                                           243\n",
       "Ellsworth St at Russell St                                          241\n",
       "Horton St at 40th St                                                238\n",
       "Grove St at Masonic Ave                                             237\n",
       "Washington St at 8th St                                             232\n",
       "Webster St at 19th St                                               230\n",
       "30th St at San Jose Ave                                             228\n",
       "Lakeside Dr at 14th St                                              228\n",
       "Potrero del Sol Park (25th St at Utah St)                           224\n",
       "Telegraph Ave at Alcatraz Ave                                       216\n",
       "Madison St at 17th St                                               213\n",
       "Adeline St at 40th St                                               210\n",
       "Fifth St at Delaware St                                             209\n",
       "13th St at Franklin St                                              207\n",
       "San Pedro Square                                                    205\n",
       "West St at University Ave                                           205\n",
       "24th St at Market St                                                204\n",
       "Jack London Square                                                  203\n",
       "Jersey St at Church St                                              202\n",
       "Market St at 45th St                                                196\n",
       "32nd St at Adeline St                                               196\n",
       "Stanford Ave at Hollis St                                           195\n",
       "Emeryville Public Market                                            194\n",
       "Shattuck Ave at 55th St                                             194\n",
       "Fulton St at Ashby Ave                                              192\n",
       "4th Ave at E 12th St (Temporary Location)                           192\n",
       "Scott St at Golden Gate Ave                                         190\n",
       "Marston Campbell Park                                               185\n",
       "Shattuck Ave at Telegraph Ave                                       185\n",
       "59th St at Horton St                                                177\n",
       "9th St at San Fernando St                                           176\n",
       "20th St at Dolores St                                               175\n",
       "Snow Park                                                           174\n",
       "San Jose City Hall                                                  170\n",
       "Dover St at 57th St                                                 170\n",
       "Market St at Brockhurst St                                          166\n",
       "Franklin St at 9th St                                               165\n",
       "Santa Clara St at 7th St                                            163\n",
       "34th St at Telegraph Ave                                            157\n",
       "Miles Ave at Cavour St                                              156\n",
       "Harmon St at Adeline St                                             154\n",
       "San Pablo Park                                                      150\n",
       "2nd St at Folsom St                                                 147\n",
       "College Ave at Harwood Ave                                          143\n",
       "DeFremery Park                                                      143\n",
       "Broadway at Coronado Ave                                            141\n",
       "Jackson St at 11th St                                               140\n",
       "55th St at Telegraph Ave                                            137\n",
       "47th St at San Pablo Ave                                            135\n",
       "Shattuck Ave at 51st St                                             129\n",
       "Alcatraz Ave at Shattuck Ave                                        128\n",
       "MLK Jr Way at 14th St                                               128\n",
       "Guerrero Park                                                       125\n",
       "West St at 40th St                                                  118\n",
       "San Pablo Ave at MLK Jr Way                                         118\n",
       "37th St at West St                                                  116\n",
       "Santa Clara St at Almaden Blvd                                      116\n",
       "6th Ave at E 12th St (Temporary Location)                           113\n",
       "Telegraph Ave at 58th St                                            112\n",
       "Bushrod Park                                                        112\n",
       "Emeryville Town Hall                                                106\n",
       "Autumn Parkway at Coleman Ave                                       106\n",
       "Cesar Chavez St at Dolores St                                       103\n",
       "MacArthur Blvd at Telegraph Ave                                     102\n",
       "Fruitvale BART Station                                              102\n",
       "Pierce Ave at Market St                                              99\n",
       "5th St at Taylor St                                                  99\n",
       "San Salvador St at 1st St                                            97\n",
       "Union St at 10th St                                                  96\n",
       "53rd St at Hollis St                                                 90\n",
       "Market St at Park St                                                 90\n",
       "Jackson St at 5th St                                                 90\n",
       "Almaden Blvd at San Fernando St                                      88\n",
       "Cahill Park                                                          85\n",
       "San Carlos St at 11th St                                             83\n",
       "Saint James Park                                                     82\n",
       "William St at 10th St                                                82\n",
       "College Ave at Taft Ave                                              80\n",
       "Isabella St at San Pablo Ave                                         80\n",
       "14th St at Filbert St                                                79\n",
       "Foothill Blvd at Fruitvale Ave                                       75\n",
       "Julian St at 6th St                                                  71\n",
       "San Pablo Ave at 27th St                                             69\n",
       "College Ave at Bryant Ave                                            67\n",
       "45th St at MLK Jr Way                                                67\n",
       "Newhall St at 3rd St                                                 62\n",
       "San Antonio Park                                                     61\n",
       "Market St at 8th St                                                  59\n",
       "Mendell St at Fairfax Ave                                            57\n",
       "Delmas Ave and San Fernando St                                       54\n",
       "San Carlos St at Market St                                           52\n",
       "Williams Ave at 3rd St                                               51\n",
       "27th St at MLK Jr Way                                                49\n",
       "Market St at 40th St                                                 49\n",
       "Empire St at 1st St                                                  47\n",
       "Lane St at Revere Ave                                                46\n",
       "Locust St at Grant St                                                45\n",
       "SAP Center                                                           42\n",
       "Almaden Blvd at Balbach St                                           38\n",
       "Bestor Art Park                                                      38\n",
       "10th Ave at E 15th St                                                37\n",
       "George St at 1st St                                                  34\n",
       "San Pedro St at Hedding St                                           30\n",
       "Empire St at 7th St                                                  28\n",
       "Oak St at 1st St                                                     28\n",
       "Mission St at 1st St                                                 25\n",
       "Backesto Park (Jackson St at 13th St)                                21\n",
       "Farnam St at Fruitvale Ave                                           20\n",
       "Williams Ave at Apollo St                                            20\n",
       "Foothill Blvd at 42nd Ave                                            20\n",
       "23rd Ave at Foothill Blvd                                            20\n",
       "26th Ave at International Blvd                                       19\n",
       "Foothill Blvd at Harrington Ave                                      16\n",
       "Leavenworth St at Broadway                                           12\n",
       "Taylor St at 9th St                                                  11\n",
       "Parker Ave at McAllister St                                           9\n",
       "Palm St at Willow St                                                  7\n",
       "16th St Depot                                                         6\n",
       "21st Ave at International Blvd                                        6\n",
       "Willow St at Vine St                                                  5\n",
       "Name: end_station_name, dtype: int64"
      ]
     },
     "execution_count": 47,
     "metadata": {},
     "output_type": "execute_result"
    }
   ],
   "source": [
    "#we used pd.set_option to display all rows in value counts, so we can filter the first 10 end_station_name for our plot\n",
    "pd.set_option(\"display.max_rows\", None)\n",
    "ford_go_bike['end_station_name'].value_counts()"
   ]
  },
  {
   "cell_type": "code",
   "execution_count": 49,
   "metadata": {
    "scrolled": false,
    "slideshow": {
     "slide_type": "skip"
    }
   },
   "outputs": [
    {
     "data": {
      "text/plain": [
       "<AxesSubplot:xlabel='count', ylabel='end_station_name'>"
      ]
     },
     "execution_count": 49,
     "metadata": {},
     "output_type": "execute_result"
    },
    {
     "data": {
      "image/png": "[encoded data removed]",
      "text/plain": [
       "<Figure size 432x288 with 1 Axes>"
      ]
     },
     "metadata": {
      "needs_background": "light"
     },
     "output_type": "display_data"
    }
   ],
   "source": [
    "fbstartSname=ford_go_bike[ford_go_bike['end_station_name'].isin(['Powell St BART Station (Market St at 4th St)','San Francisco Ferry Building (Harry Bridges Plaza)','Montgomery St BART Station (Market St at 2nd St)','San Francisco Caltrain Station 2  (Townsend St at 4th St)','Market St at 10th St','Berry St at 4th St','The Embarcadero at Sansome St','Powell St BART Station (Market St at 5th St)','Steuart St at Market St','Howard St at Beale St'])]                    \n",
    "sb.countplot(data=fbstartSname, y='end_station_name', color=color)"
   ]
  },
  {
   "cell_type": "markdown",
   "metadata": {
    "slideshow": {
     "slide_type": "skip"
    }
   },
   "source": [
    "#### Observation\n",
    "- Amongst the first 10 stations with most rides, San Francisco Caltrain Station 2  (Townsend St at 4th St) was first, then Market St at 10th St and so on as the visualization above clearly shows.\n"
   ]
  },
  {
   "cell_type": "code",
   "execution_count": 200,
   "metadata": {
    "slideshow": {
     "slide_type": "skip"
    }
   },
   "outputs": [
    {
     "name": "stdout",
     "output_type": "stream",
     "text": [
      "Requirement already satisfied: pyproj in c:\\users\\user\\anaconda3\\lib\\site-packages (3.3.1)\n",
      "Requirement already satisfied: certifi in c:\\users\\user\\anaconda3\\lib\\site-packages (from pyproj) (2021.10.8)\n",
      "Note: you may need to restart the kernel to use updated packages.\n"
     ]
    }
   ],
   "source": [
    "pip install pyproj"
   ]
  },
  {
   "cell_type": "markdown",
   "metadata": {
    "slideshow": {
     "slide_type": "subslide"
    }
   },
   "source": [
    "### Talk about some of the relationships you observed in this part of the investigation. How did the feature(s) of interest vary with other features in the dataset?\n",
    "\n",
    "- From the scatter plot, we can see a positive correlation between distance and speed with more correlation around speed from 07 m/s and distance from 0 to less than 10000m\n",
    "- The subscriber user type had more males and females than the customer user type.\n",
    "- The distribution shows majority of male gender didn't share their trip with only a few shared. The Female gender shows majority didn't share while a few did.\n",
    "- \n",
    "### Did you observe any interesting relationships between the other features (not the main feature(s) of interest)?\n",
    "\n",
    "- years from 1950 to 1956 had more subscribers than customers, while year 1957 to 1958 had more customers than subscribers. From year 1961 to 1970 had more customers than subscribers or equal."
   ]
  },
  {
   "cell_type": "markdown",
   "metadata": {
    "slideshow": {
     "slide_type": "slide"
    }
   },
   "source": [
    "## Multivariate Exploration\n",
    "\n",
    "> In this section, we Create plots of three or more variables to investigate our dataset even\n",
    "further"
   ]
  },
  {
   "cell_type": "code",
   "execution_count": 154,
   "metadata": {
    "slideshow": {
     "slide_type": "skip"
    }
   },
   "outputs": [
    {
     "data": {
      "text/html": [
       "<div>\n",
       "<style scoped>\n",
       "    .dataframe tbody tr th:only-of-type {\n",
       "        vertical-align: middle;\n",
       "    }\n",
       "\n",
       "    .dataframe tbody tr th {\n",
       "        vertical-align: top;\n",
       "    }\n",
       "\n",
       "    .dataframe thead th {\n",
       "        text-align: right;\n",
       "    }\n",
       "</style>\n",
       "<table border=\"1\" class=\"dataframe\">\n",
       "  <thead>\n",
       "    <tr style=\"text-align: right;\">\n",
       "      <th></th>\n",
       "      <th>duration_sec</th>\n",
       "      <th>start_station_id</th>\n",
       "      <th>start_station_latitude</th>\n",
       "      <th>start_station_longitude</th>\n",
       "      <th>end_station_id</th>\n",
       "      <th>end_station_latitude</th>\n",
       "      <th>end_station_longitude</th>\n",
       "      <th>bike_id</th>\n",
       "      <th>member_birth_year</th>\n",
       "      <th>dist</th>\n",
       "      <th>speed</th>\n",
       "    </tr>\n",
       "  </thead>\n",
       "  <tbody>\n",
       "    <tr>\n",
       "      <th>duration_sec</th>\n",
       "      <td>1.000000</td>\n",
       "      <td>-0.008652</td>\n",
       "      <td>0.010961</td>\n",
       "      <td>-0.038537</td>\n",
       "      <td>0.003064</td>\n",
       "      <td>0.011322</td>\n",
       "      <td>-0.039524</td>\n",
       "      <td>-0.006115</td>\n",
       "      <td>-0.056249</td>\n",
       "      <td>0.126922</td>\n",
       "      <td>-0.245614</td>\n",
       "    </tr>\n",
       "    <tr>\n",
       "      <th>start_station_id</th>\n",
       "      <td>-0.008652</td>\n",
       "      <td>1.000000</td>\n",
       "      <td>-0.190978</td>\n",
       "      <td>0.459169</td>\n",
       "      <td>0.336227</td>\n",
       "      <td>-0.179771</td>\n",
       "      <td>0.466755</td>\n",
       "      <td>-0.064677</td>\n",
       "      <td>0.019639</td>\n",
       "      <td>-0.056973</td>\n",
       "      <td>-0.010590</td>\n",
       "    </tr>\n",
       "    <tr>\n",
       "      <th>start_station_latitude</th>\n",
       "      <td>0.010961</td>\n",
       "      <td>-0.190978</td>\n",
       "      <td>1.000000</td>\n",
       "      <td>-0.672735</td>\n",
       "      <td>-0.179727</td>\n",
       "      <td>0.989825</td>\n",
       "      <td>-0.678205</td>\n",
       "      <td>0.049669</td>\n",
       "      <td>-0.020175</td>\n",
       "      <td>0.066849</td>\n",
       "      <td>0.073408</td>\n",
       "    </tr>\n",
       "    <tr>\n",
       "      <th>start_station_longitude</th>\n",
       "      <td>-0.038537</td>\n",
       "      <td>0.459169</td>\n",
       "      <td>-0.672735</td>\n",
       "      <td>1.000000</td>\n",
       "      <td>0.479688</td>\n",
       "      <td>-0.677376</td>\n",
       "      <td>0.992314</td>\n",
       "      <td>-0.142066</td>\n",
       "      <td>0.056089</td>\n",
       "      <td>-0.154334</td>\n",
       "      <td>-0.029044</td>\n",
       "    </tr>\n",
       "    <tr>\n",
       "      <th>end_station_id</th>\n",
       "      <td>0.003064</td>\n",
       "      <td>0.336227</td>\n",
       "      <td>-0.179727</td>\n",
       "      <td>0.479688</td>\n",
       "      <td>1.000000</td>\n",
       "      <td>-0.197992</td>\n",
       "      <td>0.469027</td>\n",
       "      <td>-0.054607</td>\n",
       "      <td>0.017298</td>\n",
       "      <td>-0.076684</td>\n",
       "      <td>-0.058006</td>\n",
       "    </tr>\n",
       "    <tr>\n",
       "      <th>end_station_latitude</th>\n",
       "      <td>0.011322</td>\n",
       "      <td>-0.179771</td>\n",
       "      <td>0.989825</td>\n",
       "      <td>-0.677376</td>\n",
       "      <td>-0.197992</td>\n",
       "      <td>1.000000</td>\n",
       "      <td>-0.679774</td>\n",
       "      <td>0.048912</td>\n",
       "      <td>-0.020660</td>\n",
       "      <td>0.069875</td>\n",
       "      <td>0.075705</td>\n",
       "    </tr>\n",
       "    <tr>\n",
       "      <th>end_station_longitude</th>\n",
       "      <td>-0.039524</td>\n",
       "      <td>0.466755</td>\n",
       "      <td>-0.678205</td>\n",
       "      <td>0.992314</td>\n",
       "      <td>0.469027</td>\n",
       "      <td>-0.679774</td>\n",
       "      <td>1.000000</td>\n",
       "      <td>-0.143826</td>\n",
       "      <td>0.056721</td>\n",
       "      <td>-0.147256</td>\n",
       "      <td>-0.020874</td>\n",
       "    </tr>\n",
       "    <tr>\n",
       "      <th>bike_id</th>\n",
       "      <td>-0.006115</td>\n",
       "      <td>-0.064677</td>\n",
       "      <td>0.049669</td>\n",
       "      <td>-0.142066</td>\n",
       "      <td>-0.054607</td>\n",
       "      <td>0.048912</td>\n",
       "      <td>-0.143826</td>\n",
       "      <td>1.000000</td>\n",
       "      <td>0.026727</td>\n",
       "      <td>0.099563</td>\n",
       "      <td>0.144176</td>\n",
       "    </tr>\n",
       "    <tr>\n",
       "      <th>member_birth_year</th>\n",
       "      <td>-0.056249</td>\n",
       "      <td>0.019639</td>\n",
       "      <td>-0.020175</td>\n",
       "      <td>0.056089</td>\n",
       "      <td>0.017298</td>\n",
       "      <td>-0.020660</td>\n",
       "      <td>0.056721</td>\n",
       "      <td>0.026727</td>\n",
       "      <td>1.000000</td>\n",
       "      <td>-0.005953</td>\n",
       "      <td>0.067696</td>\n",
       "    </tr>\n",
       "    <tr>\n",
       "      <th>dist</th>\n",
       "      <td>0.126922</td>\n",
       "      <td>-0.056973</td>\n",
       "      <td>0.066849</td>\n",
       "      <td>-0.154334</td>\n",
       "      <td>-0.076684</td>\n",
       "      <td>0.069875</td>\n",
       "      <td>-0.147256</td>\n",
       "      <td>0.099563</td>\n",
       "      <td>-0.005953</td>\n",
       "      <td>1.000000</td>\n",
       "      <td>0.313308</td>\n",
       "    </tr>\n",
       "    <tr>\n",
       "      <th>speed</th>\n",
       "      <td>-0.245614</td>\n",
       "      <td>-0.010590</td>\n",
       "      <td>0.073408</td>\n",
       "      <td>-0.029044</td>\n",
       "      <td>-0.058006</td>\n",
       "      <td>0.075705</td>\n",
       "      <td>-0.020874</td>\n",
       "      <td>0.144176</td>\n",
       "      <td>0.067696</td>\n",
       "      <td>0.313308</td>\n",
       "      <td>1.000000</td>\n",
       "    </tr>\n",
       "  </tbody>\n",
       "</table>\n",
       "</div>"
      ],
      "text/plain": [
       "                         duration_sec  start_station_id  \\\n",
       "duration_sec                 1.000000         -0.008652   \n",
       "start_station_id            -0.008652          1.000000   \n",
       "start_station_latitude       0.010961         -0.190978   \n",
       "start_station_longitude     -0.038537          0.459169   \n",
       "end_station_id               0.003064          0.336227   \n",
       "end_station_latitude         0.011322         -0.179771   \n",
       "end_station_longitude       -0.039524          0.466755   \n",
       "bike_id                     -0.006115         -0.064677   \n",
       "member_birth_year           -0.056249          0.019639   \n",
       "dist                         0.126922         -0.056973   \n",
       "speed                       -0.245614         -0.010590   \n",
       "\n",
       "                         start_station_latitude  start_station_longitude  \\\n",
       "duration_sec                           0.010961                -0.038537   \n",
       "start_station_id                      -0.190978                 0.459169   \n",
       "start_station_latitude                 1.000000                -0.672735   \n",
       "start_station_longitude               -0.672735                 1.000000   \n",
       "end_station_id                        -0.179727                 0.479688   \n",
       "end_station_latitude                   0.989825                -0.677376   \n",
       "end_station_longitude                 -0.678205                 0.992314   \n",
       "bike_id                                0.049669                -0.142066   \n",
       "member_birth_year                     -0.020175                 0.056089   \n",
       "dist                                   0.066849                -0.154334   \n",
       "speed                                  0.073408                -0.029044   \n",
       "\n",
       "                         end_station_id  end_station_latitude  \\\n",
       "duration_sec                   0.003064              0.011322   \n",
       "start_station_id               0.336227             -0.179771   \n",
       "start_station_latitude        -0.179727              0.989825   \n",
       "start_station_longitude        0.479688             -0.677376   \n",
       "end_station_id                 1.000000             -0.197992   \n",
       "end_station_latitude          -0.197992              1.000000   \n",
       "end_station_longitude          0.469027             -0.679774   \n",
       "bike_id                       -0.054607              0.048912   \n",
       "member_birth_year              0.017298             -0.020660   \n",
       "dist                          -0.076684              0.069875   \n",
       "speed                         -0.058006              0.075705   \n",
       "\n",
       "                         end_station_longitude   bike_id  member_birth_year  \\\n",
       "duration_sec                         -0.039524 -0.006115          -0.056249   \n",
       "start_station_id                      0.466755 -0.064677           0.019639   \n",
       "start_station_latitude               -0.678205  0.049669          -0.020175   \n",
       "start_station_longitude               0.992314 -0.142066           0.056089   \n",
       "end_station_id                        0.469027 -0.054607           0.017298   \n",
       "end_station_latitude                 -0.679774  0.048912          -0.020660   \n",
       "end_station_longitude                 1.000000 -0.143826           0.056721   \n",
       "bike_id                              -0.143826  1.000000           0.026727   \n",
       "member_birth_year                     0.056721  0.026727           1.000000   \n",
       "dist                                 -0.147256  0.099563          -0.005953   \n",
       "speed                                -0.020874  0.144176           0.067696   \n",
       "\n",
       "                             dist     speed  \n",
       "duration_sec             0.126922 -0.245614  \n",
       "start_station_id        -0.056973 -0.010590  \n",
       "start_station_latitude   0.066849  0.073408  \n",
       "start_station_longitude -0.154334 -0.029044  \n",
       "end_station_id          -0.076684 -0.058006  \n",
       "end_station_latitude     0.069875  0.075705  \n",
       "end_station_longitude   -0.147256 -0.020874  \n",
       "bike_id                  0.099563  0.144176  \n",
       "member_birth_year       -0.005953  0.067696  \n",
       "dist                     1.000000  0.313308  \n",
       "speed                    0.313308  1.000000  "
      ]
     },
     "execution_count": 154,
     "metadata": {},
     "output_type": "execute_result"
    }
   ],
   "source": [
    "ford_go_bike.corr()"
   ]
  },
  {
   "cell_type": "markdown",
   "metadata": {
    "slideshow": {
     "slide_type": "skip"
    }
   },
   "source": [
    "### Question 15 what is the distribution of duration acorss distance and speed?\n"
   ]
  },
  {
   "cell_type": "code",
   "execution_count": 155,
   "metadata": {
    "slideshow": {
     "slide_type": "skip"
    }
   },
   "outputs": [
    {
     "data": {
      "text/plain": [
       "<matplotlib.colorbar.Colorbar at 0x1ce5baf33d0>"
      ]
     },
     "execution_count": 155,
     "metadata": {},
     "output_type": "execute_result"
    },
    {
     "data": {
      "image/png": "[encoded data removed]",
      "text/plain": [
       "<Figure size 720x360 with 2 Axes>"
      ]
     },
     "metadata": {
      "needs_background": "light"
     },
     "output_type": "display_data"
    }
   ],
   "source": [
    "#to turn it to multivatiant. Third column must be categorical\n",
    "#set speed categorical\n",
    "plt.figure(figsize=[10,5])\n",
    "x=ford_go_bike['dist']*1000\n",
    "plt.scatter(data=ford_go_bike, x='duration_sec' ,y='dist', c='speed')\n",
    "plt.xlabel('Duration (s)')\n",
    "plt.ylabel('Distance (km)')\n",
    "plt.colorbar(label='Speed');"
   ]
  },
  {
   "cell_type": "markdown",
   "metadata": {
    "slideshow": {
     "slide_type": "skip"
    }
   },
   "source": [
    "#### Observation\n",
    "- As distance increaes with increae in duration sec,so does the speed of a ride increase."
   ]
  },
  {
   "cell_type": "markdown",
   "metadata": {
    "slideshow": {
     "slide_type": "subslide"
    }
   },
   "source": [
    "### Question 16 what is the distribution of duration acorss distance and user type?\n"
   ]
  },
  {
   "cell_type": "code",
   "execution_count": 157,
   "metadata": {
    "slideshow": {
     "slide_type": "subslide"
    }
   },
   "outputs": [
    {
     "data": {
      "image/png": "[encoded data removed]",
      "text/plain": [
       "<Figure size 720x432 with 1 Axes>"
      ]
     },
     "metadata": {
      "needs_background": "light"
     },
     "output_type": "display_data"
    }
   ],
   "source": [
    "plt.figure(figsize=[10,6])\n",
    "plt.xlabel('Duration_sec')\n",
    "plt.ylabel('Distance')\n",
    "plt.title('Duration across distance and user type')\n",
    "sb.scatterplot(data=ford_go_bike, x='duration_sec',y='dist', hue='user_type');"
   ]
  },
  {
   "cell_type": "markdown",
   "metadata": {
    "slideshow": {
     "slide_type": "subslide"
    }
   },
   "source": [
    "#### Observation\n",
    "- The scatter plot shows most are subscribers as compared to customers, it also indicates increase in distance to cause increase in duration."
   ]
  },
  {
   "cell_type": "markdown",
   "metadata": {
    "slideshow": {
     "slide_type": "subslide"
    }
   },
   "source": [
    "### Question 15 what is relationship of end station name acorss distance and user type?\n"
   ]
  },
  {
   "cell_type": "code",
   "execution_count": 158,
   "metadata": {
    "scrolled": false,
    "slideshow": {
     "slide_type": "subslide"
    }
   },
   "outputs": [
    {
     "data": {
      "image/png": "[encoded data removed]",
      "text/plain": [
       "<Figure size 864x576 with 1 Axes>"
      ]
     },
     "metadata": {
      "needs_background": "light"
     },
     "output_type": "display_data"
    }
   ],
   "source": [
    "#end_station multivariate\n",
    "plt.figure(figsize=[12,8])\n",
    "plt.xlabel('end station name')\n",
    "plt.ylabel('Distance')\n",
    "plt.title('End station name across distance and user type')\n",
    "sb.barplot(data=fbstartSname, x='end_station_name', y='dist',  hue='user_type')\n",
    "plt.xticks(rotation=45);"
   ]
  },
  {
   "cell_type": "markdown",
   "metadata": {
    "slideshow": {
     "slide_type": "subslide"
    }
   },
   "source": [
    "#### Observation\n",
    "- San Francisco Caltrain Station 2  (Townsend St at 4th St) had more rides in total with customers having more rides than subscirbers"
   ]
  },
  {
   "cell_type": "markdown",
   "metadata": {
    "slideshow": {
     "slide_type": "subslide"
    }
   },
   "source": [
    "### Question 17 what is the distribution of member birth year acorss distance and member gender?\n"
   ]
  },
  {
   "cell_type": "code",
   "execution_count": 163,
   "metadata": {
    "slideshow": {
     "slide_type": "subslide"
    }
   },
   "outputs": [
    {
     "data": {
      "image/png": "[encoded data removed]",
      "text/plain": [
       "<Figure size 1152x576 with 1 Axes>"
      ]
     },
     "metadata": {
      "needs_background": "light"
     },
     "output_type": "display_data"
    }
   ],
   "source": [
    "#lets reduce the member_year so we can have better visuals and insights\n",
    "membirthdf=ford_go_bike[ford_go_bike['member_birth_year']>1980]\n",
    "plt.figure(figsize=[16,8])\n",
    "plt.title('Member birth year across distance and member gender')\n",
    "sb.barplot(data=membirthdf, x='member_birth_year', y='dist',  hue='member_gender');\n"
   ]
  },
  {
   "cell_type": "markdown",
   "metadata": {
    "slideshow": {
     "slide_type": "subslide"
    }
   },
   "source": [
    "#### Observation\n",
    "- year 2001 had only males and females as gender, with males convering a longer distance than females.1998 other had covered more distance about 2.3km. with males and females covering the same distance."
   ]
  },
  {
   "cell_type": "markdown",
   "metadata": {
    "slideshow": {
     "slide_type": "skip"
    }
   },
   "source": [
    "### Question 18 what is the distribution of member birth year acorss distance and user type?\n"
   ]
  },
  {
   "cell_type": "code",
   "execution_count": 164,
   "metadata": {
    "slideshow": {
     "slide_type": "skip"
    }
   },
   "outputs": [
    {
     "data": {
      "image/png": "[encoded data removed]",
      "text/plain": [
       "<Figure size 1296x864 with 1 Axes>"
      ]
     },
     "metadata": {
      "needs_background": "light"
     },
     "output_type": "display_data"
    }
   ],
   "source": [
    "#member birth year multivariate\n",
    "plt.figure(figsize=[18,12])\n",
    "plt.title('Member birth year across distance and User type')\n",
    "sb.barplot(data=fbstartSname, x='member_birth_year', y='dist',  hue='user_type')\n",
    "plt.xticks(rotation=45);\n"
   ]
  },
  {
   "cell_type": "markdown",
   "metadata": {
    "slideshow": {
     "slide_type": "skip"
    }
   },
   "source": [
    "#### Observation\n",
    "- we have so many data points on this plot, so we need to have an upper and lower limit to see more clearly."
   ]
  },
  {
   "cell_type": "markdown",
   "metadata": {
    "slideshow": {
     "slide_type": "skip"
    }
   },
   "source": [
    "### what is the relationship between member birth year across distance and user type?"
   ]
  },
  {
   "cell_type": "code",
   "execution_count": 166,
   "metadata": {
    "slideshow": {
     "slide_type": "skip"
    }
   },
   "outputs": [
    {
     "data": {
      "image/png": "[encoded data removed]",
      "text/plain": [
       "<Figure size 1080x720 with 1 Axes>"
      ]
     },
     "metadata": {
      "needs_background": "light"
     },
     "output_type": "display_data"
    }
   ],
   "source": [
    "#lets reduce the member_year so we can have better visuals and insights\n",
    "membirthdf=ford_go_bike[ford_go_bike['member_birth_year']>1980]\n",
    "plt.figure(figsize=[15,10])\n",
    "plt.title('Member birth year across distance and User type from 1980 to 2001')\n",
    "sb.barplot(data=membirthdf, x='member_birth_year', y='dist',  hue='user_type');"
   ]
  },
  {
   "cell_type": "markdown",
   "metadata": {
    "slideshow": {
     "slide_type": "skip"
    }
   },
   "source": [
    "#### Observation\n",
    "- Narrowing down on the years say 1981 to 20001 gives a clearer view of our data."
   ]
  },
  {
   "cell_type": "code",
   "execution_count": 170,
   "metadata": {
    "slideshow": {
     "slide_type": "skip"
    }
   },
   "outputs": [
    {
     "data": {
      "image/png": "[encoded data removed]",
      "text/plain": [
       "<Figure size 864x432 with 1 Axes>"
      ]
     },
     "metadata": {
      "needs_background": "light"
     },
     "output_type": "display_data"
    }
   ],
   "source": [
    "#lets reduce the member_year so we can have better visuals and insights\n",
    "membirthdf=ford_go_bike[(ford_go_bike['member_birth_year']>1980) & (ford_go_bike['member_birth_year']< 1990)]\n",
    "plt.figure(figsize=[12,6])\n",
    "plt.title('Member birth year across distance and User type from 1980 to 1990')\n",
    "sb.barplot(data=membirthdf, x='member_birth_year', y='dist',  hue='user_type');"
   ]
  },
  {
   "cell_type": "markdown",
   "metadata": {
    "slideshow": {
     "slide_type": "skip"
    }
   },
   "source": [
    "#### Observation\n",
    "- 1981 to 1989 shows customers had covered more distance than subscribers between that period."
   ]
  },
  {
   "cell_type": "code",
   "execution_count": 169,
   "metadata": {
    "slideshow": {
     "slide_type": "skip"
    }
   },
   "outputs": [
    {
     "data": {
      "image/png": "[encoded data removed]",
      "text/plain": [
       "<Figure size 864x432 with 1 Axes>"
      ]
     },
     "metadata": {
      "needs_background": "light"
     },
     "output_type": "display_data"
    }
   ],
   "source": [
    "#lets reduce the member_year so we can have better visuals and insights\n",
    "membirthdf=ford_go_bike[(ford_go_bike['member_birth_year']>=1950) & (ford_go_bike['member_birth_year']<= 1970)]\n",
    "plt.figure(figsize=[12,6])\n",
    "plt.title('Member birth year across distance and User type 1950 to 1970')\n",
    "sb.barplot(data=membirthdf, x='member_birth_year', y='dist',  hue='user_type');"
   ]
  },
  {
   "cell_type": "markdown",
   "metadata": {
    "slideshow": {
     "slide_type": "skip"
    }
   },
   "source": [
    "#### Observation\n",
    "- Birth year from 1950 to 1956 shows subscribers to have convered more distance and the trend had a switch form 1957 to 1970 where customers to have convered higher distance."
   ]
  },
  {
   "cell_type": "markdown",
   "metadata": {
    "slideshow": {
     "slide_type": "subslide"
    }
   },
   "source": [
    "### Talk about some of the relationships you observed in this part of the investigation. Were there features that strengthened each other in terms of looking at your feature(s) of interest?\n",
    "\n",
    "- The multivariate plots have lead to nice observations, some of which are:\n",
    "- Speed was an interesting feature obtained from ditance/(duration). It strenghtened the usage of comparing speed of a ride and features like member birth year, user type and bike_share_for_all_trip.\n",
    "- Birth year from 1950 to 1956 shows subscribers to have convered more distance and the trend had a switch form 1957 to 1970 where customers to have convered higher distance.\n",
    "### Were there any interesting or surprising interactions between features?\n",
    "\n",
    "- Quite honestly, the converted variables i.e latitiude and longitude to obtain distance brought about richness of the data. The variable duration_sec was converted to minutes and also to day(mon,tue,wed... sunday) and it gave better insight in terms of week day."
   ]
  },
  {
   "cell_type": "markdown",
   "metadata": {
    "slideshow": {
     "slide_type": "slide"
    }
   },
   "source": [
    "## Conclusions\n",
    ">You can write a summary of the main findings and reflect on the steps taken during the data exploration.\n",
    "- In summary, the findings shows the richness of the data when i combined my previous knowledge of the last project on data wrangling with this on visualization. combining data warngling (even though some are not commented or put on a markdown) and exploration using visualization made the work more rich. I used the question, visualization and observation format for each exploration. Conversion of some of the variables like latitiude and longitude to obtain distance and duration_sec  to obtain minutes and importantly to days of the week(mon,tue,wed... sunday) assisted in my exploration. Having an upper and lower Limit on member birth year due to much data gave a better visualizationa and understanding of the data. Tools like xlimit for the x-axis on some variabes made our data visualization clearer as we truncated outliers. The list below list our findings:\n",
    "###  \n",
    "- Thursdays have more rides while weekends have less rides.\n",
    "- subscribers take on far more rides than customers\n",
    "- more males take on rides than females with a large difference\n",
    "- Most users to large extent did not share their bikes as only just a few did. no customer shared his/her ride.\n",
    "- trip distance is usually between 5 to 7 minutes \n",
    "- San Francisco Caltrain Station 2 (Townsend St at 4th St) station had more rides than any station and customers had more rides than subscribers."
   ]
  },
  {
   "cell_type": "markdown",
   "metadata": {
    "slideshow": {
     "slide_type": "skip"
    }
   },
   "source": [
    "\n",
    "\n"
   ]
  },
  {
   "cell_type": "markdown",
   "metadata": {
    "slideshow": {
     "slide_type": "skip"
    }
   },
   "source": [
    "https://www.geeksforgeeks.org/get-day-from-date-in-pandas-python/\n",
    "    where i got how to get day of the week from start and end time"
   ]
  },
  {
   "cell_type": "code",
   "execution_count": null,
   "metadata": {
    "slideshow": {
     "slide_type": "skip"
    }
   },
   "outputs": [],
   "source": []
  },
  {
   "cell_type": "code",
   "execution_count": null,
   "metadata": {
    "slideshow": {
     "slide_type": "skip"
    }
   },
   "outputs": [],
   "source": []
  },
  {
   "cell_type": "code",
   "execution_count": null,
   "metadata": {},
   "outputs": [],
   "source": []
  }
 ],
 "metadata": {
  "celltoolbar": "Slideshow",
  "kernelspec": {
   "display_name": "Python 3 (ipykernel)",
   "language": "python",
   "name": "python3"
  },
  "language_info": {
   "codemirror_mode": {
    "name": "ipython",
    "version": 3
   },
   "file_extension": ".py",
   "mimetype": "text/x-python",
   "name": "python",
   "nbconvert_exporter": "python",
   "pygments_lexer": "ipython3",
   "version": "3.9.12"
  }
 },
 "nbformat": 4,
 "nbformat_minor": 2
}
